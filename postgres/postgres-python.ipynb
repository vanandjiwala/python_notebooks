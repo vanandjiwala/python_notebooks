{
 "cells": [
  {
   "cell_type": "code",
   "execution_count": null,
   "id": "a187c7c6-5ff0-4c6c-8d63-574136567658",
   "metadata": {},
   "outputs": [],
   "source": [
    "!pip install Pillow"
   ]
  },
  {
   "cell_type": "code",
   "execution_count": null,
   "id": "abedd8f2-44e9-4062-919d-d9d72c02126a",
   "metadata": {},
   "outputs": [],
   "source": [
    "%%markdown\n",
    "## Imports"
   ]
  },
  {
   "cell_type": "code",
   "execution_count": null,
   "id": "1c5b38f2-b395-47a2-9458-04fd19030156",
   "metadata": {},
   "outputs": [],
   "source": [
    "import psycopg2\n",
    "import pandas as pd\n",
    "from sqlalchemy import create_engine"
   ]
  },
  {
   "cell_type": "code",
   "execution_count": null,
   "id": "16c90bfa-e92a-435b-8748-305e1aa8a634",
   "metadata": {},
   "outputs": [],
   "source": [
    "%%markdown\n",
    "## Establish connections"
   ]
  },
  {
   "cell_type": "code",
   "execution_count": null,
   "id": "1981280c-6545-40b5-909c-36b88eb01a3f",
   "metadata": {},
   "outputs": [],
   "source": [
    "# Database connection parameters\n",
    "DB_HOST = \"localhost\"\n",
    "DB_PORT = \"5433\"\n",
    "DB_NAME = \"test\"\n",
    "DB_USER = \"postgres\"\n",
    "DB_PASSWORD = \"postgres\""
   ]
  },
  {
   "cell_type": "code",
   "execution_count": null,
   "id": "64831517-62fa-4f71-9c6c-9fd53fe8cfd3",
   "metadata": {},
   "outputs": [],
   "source": [
    "def connect_psycopg2():\n",
    "    \"\"\"Establish a connection to PostgreSQL using psycopg2.\"\"\"\n",
    "    try:\n",
    "        conn = psycopg2.connect(\n",
    "            host=DB_HOST,\n",
    "            port=DB_PORT,\n",
    "            database=DB_NAME,\n",
    "            user=DB_USER,\n",
    "            password=DB_PASSWORD\n",
    "        )\n",
    "        print(\"Connected to PostgreSQL successfully using psycopg2!\")\n",
    "        return conn\n",
    "    except Exception as e:\n",
    "        print(\"Error connecting to PostgreSQL:\", e)\n",
    "        raise"
   ]
  },
  {
   "cell_type": "code",
   "execution_count": null,
   "id": "a7bb9103-bc98-4452-a4d4-59f42c28b8de",
   "metadata": {},
   "outputs": [],
   "source": [
    "conn = connect_psycopg2()\n",
    "cur = conn.cursor()"
   ]
  },
  {
   "cell_type": "code",
   "execution_count": null,
   "id": "0af8d101-2d91-449c-91f3-458566a3fb90",
   "metadata": {},
   "outputs": [],
   "source": [
    "create_table_query = \"\"\"\n",
    "    CREATE TABLE IF NOT EXISTS employees (\n",
    "        id SERIAL PRIMARY KEY,\n",
    "        name VARCHAR(100) NOT NULL,\n",
    "        age INTEGER,\n",
    "        department VARCHAR(50)\n",
    "    );\n",
    "    \"\"\"\n",
    "cur.execute(create_table_query)\n",
    "conn.commit()"
   ]
  },
  {
   "cell_type": "code",
   "execution_count": null,
   "id": "d676b164-0343-49ef-b48a-5370109c75fb",
   "metadata": {},
   "outputs": [],
   "source": [
    "%%markdown\n",
    "## Create Table"
   ]
  },
  {
   "cell_type": "code",
   "execution_count": null,
   "id": "31b98bae-1f6b-43af-80c9-62611d269e75",
   "metadata": {},
   "outputs": [],
   "source": [
    "insert_query = \"INSERT INTO employees (name, age, department) VALUES (%s, %s, %s);\"\n",
    "employees_data = [\n",
    "    ('Alice', 30, 'HR'),\n",
    "    ('Bob', 25, 'Engineering'),\n",
    "    ('Charlie', 35, 'Finance')\n",
    "]\n",
    "cur.executemany(insert_query, employees_data)\n",
    "conn.commit()"
   ]
  },
  {
   "cell_type": "code",
   "execution_count": null,
   "id": "67c634dc-cfaf-45da-bb02-cbfaa68edf41",
   "metadata": {},
   "outputs": [],
   "source": [
    "%%markdown\n",
    "## Update"
   ]
  },
  {
   "cell_type": "code",
   "execution_count": null,
   "id": "bddbd68c-092a-4bdb-974f-8a467dd51717",
   "metadata": {},
   "outputs": [],
   "source": [
    "update_query = \"UPDATE employees SET department = %s WHERE name = %s;\"\n",
    "cur.execute(update_query, ('Marketing', 'Alice'))\n",
    "conn.commit()"
   ]
  },
  {
   "cell_type": "code",
   "execution_count": null,
   "id": "8df5d9fb-2ffa-4744-a08c-4b182ebab722",
   "metadata": {},
   "outputs": [],
   "source": [
    "%%markdown\n",
    "## Delete"
   ]
  },
  {
   "cell_type": "code",
   "execution_count": null,
   "id": "09c26642-a8c0-4124-a12c-c39543e5bc34",
   "metadata": {},
   "outputs": [],
   "source": [
    "delete_query = \"DELETE FROM employees WHERE name = %s;\"\n",
    "cur.execute(delete_query, ('Charlie',))\n",
    "conn.commit()"
   ]
  },
  {
   "cell_type": "code",
   "execution_count": null,
   "id": "ea3f8854-0634-4cab-abf5-2188199578e6",
   "metadata": {},
   "outputs": [],
   "source": [
    "%%markdown\n",
    "## PANDAS SELECT EXAMPLE"
   ]
  },
  {
   "cell_type": "code",
   "execution_count": null,
   "id": "a79eedae-396e-485c-9d65-d93bebe7cd2b",
   "metadata": {},
   "outputs": [],
   "source": [
    "query = \"SELECT * FROM employees;\"\n",
    "# Using pandas read_sql_query with the psycopg2 connection\n",
    "df = pd.read_sql_query(query, conn)\n",
    "print(\"\\nData fetched using pandas:\")\n",
    "print(df)"
   ]
  },
  {
   "cell_type": "code",
   "execution_count": null,
   "id": "a9078fcc-8770-4bb3-8232-5c4d8f51ace9",
   "metadata": {},
   "outputs": [],
   "source": [
    "%%markdown\n",
    "## Closing connection"
   ]
  },
  {
   "cell_type": "code",
   "execution_count": null,
   "id": "40ec9a69-9e6b-4920-8440-e5ce67c4fc71",
   "metadata": {},
   "outputs": [],
   "source": [
    "cur.close()\n",
    "conn.close()"
   ]
  },
  {
   "cell_type": "code",
   "execution_count": null,
   "id": "a89287c7-a602-41d5-87f2-b20df7e244ab",
   "metadata": {},
   "outputs": [],
   "source": [
    "%%markdown\n",
    "## Handling warning and using SQLAlchemy"
   ]
  },
  {
   "cell_type": "code",
   "execution_count": null,
   "id": "e13ca071-d586-49bd-9db9-39d4fe220971",
   "metadata": {},
   "outputs": [],
   "source": [
    "engine_str = f\"postgresql+psycopg2://{DB_USER}:{DB_PASSWORD}@{DB_HOST}:{DB_PORT}/{DB_NAME}\"\n",
    "engine = create_engine(engine_str)\n",
    "query = \"SELECT * FROM employees;\"\n",
    "df = pd.read_sql(query, engine)\n",
    "print(df)"
   ]
  },
  {
   "cell_type": "code",
   "execution_count": null,
   "id": "9c46ee38-4db7-41c0-8445-cc7a1eebfae9",
   "metadata": {},
   "outputs": [],
   "source": [
    "%%markdown\n",
    "## Sample Transformation and ETL"
   ]
  },
  {
   "cell_type": "code",
   "execution_count": null,
   "id": "1b3f9769-6e9b-4914-90ee-631cffe7bcec",
   "metadata": {},
   "outputs": [],
   "source": [
    "df_transformed = df.copy()\n",
    "df_transformed['age_in_5_years'] = df_transformed['age'] + 5\n",
    "df_transformed['department_id'] = df_transformed['department'].apply(lambda x: 1 if x == 'Engineering' else 0)\n",
    "df_transformed.to_sql('employees_staging', engine, if_exists='replace', index=False)"
   ]
  },
  {
   "cell_type": "code",
   "execution_count": null,
   "id": "86821094-1469-4bd3-8144-375bd0cac377",
   "metadata": {},
   "outputs": [],
   "source": [
    "%%markdown\n",
    "## Let us see a bit larger picture"
   ]
  },
  {
   "cell_type": "code",
   "execution_count": null,
   "id": "4c48d8b3-8d8b-44f7-8dac-8b55704296f6",
   "metadata": {},
   "outputs": [],
   "source": [
    "from IPython.display import display\n",
    "from PIL import Image\n",
    "\n",
    "image_path = \"simple_python_usecase.png\"\n",
    "img = Image.open(image_path)\n",
    "display(img)"
   ]
  },
  {
   "cell_type": "code",
   "execution_count": null,
   "id": "bdcc0226-6df7-4fcc-9bc3-439d02cda36b",
   "metadata": {},
   "outputs": [],
   "source": [
    "%%markdown\n",
    "## References\n",
    "1. https://python-oracledb.readthedocs.io/en/latest/user_guide/connection_handling.html\n",
    "2. https://medium.com/oracledevs/using-the-development-branch-of-sqlalchemy-2-0-with-python-oracledb-d6e89090899c"
   ]
  },
  {
   "cell_type": "code",
   "execution_count": null,
   "id": "a6b66a07-2485-489a-ac10-fa92c5002e42",
   "metadata": {},
   "outputs": [],
   "source": []
  }
 ],
 "metadata": {
  "kernelspec": {
   "display_name": "Python 3 (ipykernel)",
   "language": "python",
   "name": "python3"
  },
  "language_info": {
   "codemirror_mode": {
    "name": "ipython",
    "version": 3
   },
   "file_extension": ".py",
   "mimetype": "text/x-python",
   "name": "python",
   "nbconvert_exporter": "python",
   "pygments_lexer": "ipython3",
   "version": "3.10.11"
  }
 },
 "nbformat": 4,
 "nbformat_minor": 5
}
