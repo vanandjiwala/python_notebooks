{
 "cells": [
  {
   "cell_type": "code",
   "execution_count": 7,
   "id": "9ebb8205-7c13-47f6-befb-7128aca2d72b",
   "metadata": {},
   "outputs": [],
   "source": [
    "from langchain_openai import ChatOpenAI\n",
    "from langchain_core.output_parsers import StrOutputParser\n",
    "from langchain_core.prompts import ChatPromptTemplate\n",
    "\n",
    "from dotenv import load_dotenv\n",
    "import os"
   ]
  },
  {
   "cell_type": "code",
   "execution_count": 8,
   "id": "9e4002dc-862f-4278-9f67-0eb0f022d6f5",
   "metadata": {},
   "outputs": [
    {
     "data": {
      "text/plain": [
       "True"
      ]
     },
     "execution_count": 8,
     "metadata": {},
     "output_type": "execute_result"
    }
   ],
   "source": [
    "load_dotenv()"
   ]
  },
  {
   "cell_type": "code",
   "execution_count": 9,
   "id": "93369726-7296-474a-81ac-0220e1add7b9",
   "metadata": {},
   "outputs": [],
   "source": [
    "model = ChatOpenAI(model=\"gpt-4o-mini\")"
   ]
  },
  {
   "cell_type": "code",
   "execution_count": 10,
   "id": "c205fc59-783a-402b-a392-c09c71578c4d",
   "metadata": {},
   "outputs": [],
   "source": [
    "prompt = ChatPromptTemplate.from_template(\"tell me a joke about {topic}\")\n",
    "\n",
    "chain = prompt | model | StrOutputParser()"
   ]
  },
  {
   "cell_type": "code",
   "execution_count": 11,
   "id": "9c8ee203-04e2-46c5-a840-14b458a72739",
   "metadata": {},
   "outputs": [],
   "source": [
    "response = chain.invoke({'topic': 'lion'})"
   ]
  },
  {
   "cell_type": "code",
   "execution_count": 15,
   "id": "f320ac10-99a6-4f07-b8ad-cb4ed5362f10",
   "metadata": {},
   "outputs": [
    {
     "data": {
      "text/plain": [
       "'Why did the lion eat the tightrope walker?\\n\\nBecause he wanted a well-balanced meal!'"
      ]
     },
     "execution_count": 15,
     "metadata": {},
     "output_type": "execute_result"
    }
   ],
   "source": [
    "response"
   ]
  },
  {
   "cell_type": "code",
   "execution_count": null,
   "id": "eff9d0bb-6b10-4b59-83fd-9fb0dbd7fbdd",
   "metadata": {},
   "outputs": [],
   "source": []
  }
 ],
 "metadata": {
  "kernelspec": {
   "display_name": "Python 3 (ipykernel)",
   "language": "python",
   "name": "python3"
  },
  "language_info": {
   "codemirror_mode": {
    "name": "ipython",
    "version": 3
   },
   "file_extension": ".py",
   "mimetype": "text/x-python",
   "name": "python",
   "nbconvert_exporter": "python",
   "pygments_lexer": "ipython3",
   "version": "3.11.3"
  }
 },
 "nbformat": 4,
 "nbformat_minor": 5
}
