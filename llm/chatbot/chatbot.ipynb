{
 "cells": [
  {
   "cell_type": "code",
   "execution_count": null,
   "id": "8e18adb6-9fc1-4c89-95bd-c8b9f8d29026",
   "metadata": {},
   "outputs": [],
   "source": [
    "import os\n",
    "from langchain_openai import ChatOpenAI\n",
    "from langchain_core.messages import AIMessage, SystemMessage, HumanMessage, messages_to_dict, BaseMessage, messages_from_dict, trim_messages\n",
    "from typing import Sequence\n",
    "from dotenv import load_dotenv"
   ]
  },
  {
   "cell_type": "code",
   "execution_count": null,
   "id": "7467ddcc-469d-4f47-99ab-46d3fd430baf",
   "metadata": {},
   "outputs": [],
   "source": [
    "%%markdown\n",
    "## trying things with langchain APIs and few experiments. "
   ]
  },
  {
   "cell_type": "code",
   "execution_count": null,
   "id": "a028b63c-8431-4213-a149-5d44c05fd7cc",
   "metadata": {},
   "outputs": [],
   "source": [
    "MODEL = \"gpt-4o-mini\"\n",
    "load_dotenv()"
   ]
  },
  {
   "cell_type": "code",
   "execution_count": null,
   "id": "2dde502d-6c0a-4d54-bbee-4d77f9bb43d9",
   "metadata": {},
   "outputs": [],
   "source": [
    "model = ChatOpenAI(model=MODEL)"
   ]
  },
  {
   "cell_type": "code",
   "execution_count": null,
   "id": "51b59ebb-1d93-4615-a0bf-18e3dc78185d",
   "metadata": {},
   "outputs": [],
   "source": [
    "messages: Sequence[BaseMessage] = []"
   ]
  },
  {
   "cell_type": "code",
   "execution_count": null,
   "id": "8c58f5c3-914d-4523-ab1e-36d9395276d0",
   "metadata": {},
   "outputs": [],
   "source": [
    "system_prompt = SystemMessage(content=\"Your name is 'Agustrama' and you are a helpful assistant responsible for helping the users in the best possible way. On the first conversation make sure to introduce your self.\")"
   ]
  },
  {
   "cell_type": "code",
   "execution_count": null,
   "id": "0cc6f45d-c37e-4200-a549-0544a7cb1a38",
   "metadata": {},
   "outputs": [],
   "source": [
    "user_prompt = HumanMessage(content=\"Hi !!\")"
   ]
  },
  {
   "cell_type": "code",
   "execution_count": null,
   "id": "2d3afc1d-a493-4e75-89bb-8e7c2874e6f1",
   "metadata": {},
   "outputs": [],
   "source": [
    "messages.append(system_prompt)\n",
    "messages.append(user_prompt)"
   ]
  },
  {
   "cell_type": "code",
   "execution_count": null,
   "id": "778aba1f-af9e-4d77-86ad-6ae8ba0679ff",
   "metadata": {},
   "outputs": [],
   "source": [
    "messages.append(model.invoke(messages))"
   ]
  },
  {
   "cell_type": "code",
   "execution_count": null,
   "id": "e94a778b-d46d-4491-80fa-3e9dea000294",
   "metadata": {},
   "outputs": [],
   "source": [
    "messages.append(HumanMessage(content=\"Can you tell me the difference between asiatic and african lion?\"))"
   ]
  },
  {
   "cell_type": "code",
   "execution_count": null,
   "id": "889a0fbd-f180-4f62-93bc-9212ce8db731",
   "metadata": {},
   "outputs": [],
   "source": [
    "system_prompt.model_dump()"
   ]
  },
  {
   "cell_type": "code",
   "execution_count": null,
   "id": "11886447-e396-4691-b657-a7bc16523780",
   "metadata": {},
   "outputs": [],
   "source": [
    "messages"
   ]
  },
  {
   "cell_type": "code",
   "execution_count": null,
   "id": "7409b2b8-8b41-4fcc-a461-f1add3d3fe26",
   "metadata": {},
   "outputs": [],
   "source": [
    "msg_dict = messages_to_dict(messages)"
   ]
  },
  {
   "cell_type": "code",
   "execution_count": null,
   "id": "4e47a822-d91a-4121-8f70-522f115f9562",
   "metadata": {},
   "outputs": [],
   "source": [
    "# messages_from_dict(msg_dict)"
   ]
  },
  {
   "cell_type": "code",
   "execution_count": null,
   "id": "875d2f67-4e2f-432a-89d7-caf3437434d3",
   "metadata": {},
   "outputs": [],
   "source": [
    "%%markdown\n",
    "## Simple Chatbot"
   ]
  },
  {
   "cell_type": "code",
   "execution_count": null,
   "id": "5278a42c-0c31-4953-a478-ea291d45342c",
   "metadata": {},
   "outputs": [],
   "source": [
    "messages: Sequence[BaseMessage] = []\n",
    "system_prompt = SystemMessage(content=\"Your name is 'Agustrama' and you are a helpful assistant responsible for helping the users in the best possible way. On the first conversation make sure to introduce your self.\")\n",
    "messages.append(system_prompt)"
   ]
  },
  {
   "cell_type": "code",
   "execution_count": null,
   "id": "e7b907f2-d8b0-4710-9ff8-ca367e751b6c",
   "metadata": {},
   "outputs": [],
   "source": [
    "while True:\n",
    "    chat_messages = messages\n",
    "    msg = input(\"User: \")\n",
    "    if msg == 'q':\n",
    "        print(f\"Agustrama: Thank you very much for contacting me. Hope to see you soon.\")\n",
    "        break;\n",
    "\n",
    "    if len(messages) >= 7:\n",
    "        chat_messages = trim_messages(\n",
    "            messages,\n",
    "            token_counter=len,\n",
    "            max_tokens=5,\n",
    "            start_on=\"human\",\n",
    "            end_on=(\"human\", \"tool\"),\n",
    "            include_system=True,\n",
    "            allow_partial=False\n",
    "        )\n",
    "    \n",
    "    user_prompt = HumanMessage(content=msg)\n",
    "    messages.append(user_prompt)\n",
    "    chat_messages.append(user_prompt)\n",
    "    model_response = model.invoke(chat_messages)\n",
    "    print(f\"Agustrama: {model_response.content}\")\n",
    "    messages.append(model_response)"
   ]
  },
  {
   "cell_type": "code",
   "execution_count": null,
   "id": "a7e51af0-0692-45ba-9dc9-58672c51fd9c",
   "metadata": {},
   "outputs": [],
   "source": []
  }
 ],
 "metadata": {
  "kernelspec": {
   "display_name": "Python 3 (ipykernel)",
   "language": "python",
   "name": "python3"
  },
  "language_info": {
   "codemirror_mode": {
    "name": "ipython",
    "version": 3
   },
   "file_extension": ".py",
   "mimetype": "text/x-python",
   "name": "python",
   "nbconvert_exporter": "python",
   "pygments_lexer": "ipython3",
   "version": "3.11.3"
  }
 },
 "nbformat": 4,
 "nbformat_minor": 5
}
