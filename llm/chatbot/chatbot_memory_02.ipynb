{
 "cells": [
  {
   "cell_type": "code",
   "execution_count": 1,
   "id": "c737d99a-dcac-4f4d-bf4d-99d15fdd524c",
   "metadata": {},
   "outputs": [
    {
     "data": {
      "text/markdown": [
       "## Prereq\n",
       "Run the following in the DB\n",
       "```\n",
       "CREATE USER chat_user WITH PASSWORD 'chatuser@1234';\n",
       "\n",
       "GRANT ALL PRIVILEGES ON DATABASE chat_db TO chat_user;\n",
       "\n",
       "CREATE TABLE IF NOT EXISTS chat_messages (\n",
       "    id VARCHAR(64) PRIMARY key,\n",
       "    chat_messages JSONB NOT NULL\n",
       ");\n",
       "```\n"
      ],
      "text/plain": [
       "<IPython.core.display.Markdown object>"
      ]
     },
     "metadata": {},
     "output_type": "display_data"
    }
   ],
   "source": [
    "%%markdown\n",
    "## Prereq\n",
    "Run the following in the DB\n",
    "```\n",
    "CREATE USER your_user WITH PASSWORD 'YOURPW';\n",
    "\n",
    "GRANT ALL PRIVILEGES ON DATABASE chat_db TO chat_user;\n",
    "\n",
    "CREATE TABLE IF NOT EXISTS chat_messages (\n",
    "    id VARCHAR(64) PRIMARY key,\n",
    "    chat_messages JSONB NOT NULL\n",
    ");\n",
    "```"
   ]
  },
  {
   "cell_type": "code",
   "execution_count": 2,
   "id": "88207d7e-c70b-4e33-a5d3-c2767a3d1a5d",
   "metadata": {},
   "outputs": [],
   "source": [
    "import os\n",
    "from langchain_openai import ChatOpenAI\n",
    "from langchain_core.messages import AIMessage, SystemMessage, HumanMessage, messages_to_dict, BaseMessage, messages_from_dict, trim_messages, messages_from_dict\n",
    "from typing import Sequence\n",
    "from dotenv import load_dotenv\n",
    "import uuid\n",
    "import json\n",
    "import psycopg2\n",
    "from psycopg2.extras import Json"
   ]
  },
  {
   "cell_type": "code",
   "execution_count": 3,
   "id": "29eac788-cebd-4f29-a7ac-f7f10a4736f8",
   "metadata": {},
   "outputs": [
    {
     "data": {
      "text/plain": [
       "True"
      ]
     },
     "execution_count": 3,
     "metadata": {},
     "output_type": "execute_result"
    }
   ],
   "source": [
    "MODEL = \"gpt-4o-mini\"\n",
    "DB_HOST = 'localhost'\n",
    "DB_PORT = '5433'\n",
    "DB_NAME = 'chat_db'\n",
    "DB_USER = ''\n",
    "DB_PASSWORD = ''\n",
    "\n",
    "load_dotenv()"
   ]
  },
  {
   "cell_type": "code",
   "execution_count": 4,
   "id": "45b00677-a52d-4fb0-bf5f-1d4d1ca6b040",
   "metadata": {},
   "outputs": [],
   "source": [
    "model = ChatOpenAI(model=MODEL)"
   ]
  },
  {
   "cell_type": "code",
   "execution_count": 5,
   "id": "e42d7579-5b00-4f3f-b185-cc2e20d4b079",
   "metadata": {},
   "outputs": [
    {
     "data": {
      "text/markdown": [
       "## DB Functions and connections\n"
      ],
      "text/plain": [
       "<IPython.core.display.Markdown object>"
      ]
     },
     "metadata": {},
     "output_type": "display_data"
    }
   ],
   "source": [
    "%%markdown\n",
    "## DB Functions and connections"
   ]
  },
  {
   "cell_type": "code",
   "execution_count": 6,
   "id": "b391cb35-8cf3-4236-9d7a-734bf008f89d",
   "metadata": {},
   "outputs": [],
   "source": [
    "def insert_chat_message(chat_id, chat_dict):\n",
    "    try:\n",
    "        # Insert the data into the table\n",
    "        insert_query = \"\"\"\n",
    "            INSERT INTO chat_messages (id, chat_messages)\n",
    "            VALUES (%s, %s)\n",
    "        \"\"\"\n",
    "        cursor.execute(insert_query, (str(chat_id), Json(chat_dict)))\n",
    "\n",
    "        # Commit the transaction\n",
    "        connection.commit()\n",
    "\n",
    "        print(f\"Inserted chat message with UUID: {chat_id}\")\n",
    "    except Exception as e:\n",
    "        print(f\"Error inserting data: {e}\")\n",
    "        connection.rollback()\n",
    "\n",
    "def fetch_chat_conversation(chat_id):\n",
    "    \"\"\"\n",
    "    Fetches a specific chat conversation by its UUID.\n",
    "\n",
    "    :param chat_id: UUID of the chat to retrieve.\n",
    "    :return: List of chat messages if found, else None.\n",
    "    \"\"\"\n",
    "    try:\n",
    "        # SQL query to select chat_messages for the given id\n",
    "        select_query = \"SELECT chat_messages FROM chat_messages WHERE id = %s\"\n",
    "        cursor.execute(select_query, (str(chat_id),))\n",
    "        result = cursor.fetchone()\n",
    "\n",
    "        if result is None:\n",
    "            print(f\"No chat conversation found with UUID: {chat_id}\")\n",
    "            return None\n",
    "\n",
    "        chat_messages = result[0]\n",
    "\n",
    "        # Ensure the chat_messages is a list\n",
    "        if not isinstance(chat_messages, list):\n",
    "            print(f\"Unexpected data format for chat_messages: {type(chat_messages)}\")\n",
    "            return None\n",
    "\n",
    "        return chat_messages\n",
    "\n",
    "    except Exception as e:\n",
    "        print(f\"Error fetching chat conversation: {e}\")\n",
    "        return None\n",
    "\n",
    "def update_chat_messages(chat_id, updated_messages):\n",
    "    \"\"\"\n",
    "    Fetches the existing chat_messages JSON, appends a new message in Python,\n",
    "    and replaces the existing JSON in the database with the updated version.\n",
    "\n",
    "    :param chat_id: UUID of the chat to update.\n",
    "    :param new_message: Dictionary representing the new message to append.\n",
    "    \"\"\"\n",
    "    try:\n",
    "        update_query = \"\"\"\n",
    "            UPDATE chat_messages\n",
    "            SET chat_messages = %s\n",
    "            WHERE id = %s\n",
    "        \"\"\"\n",
    "        cursor.execute(update_query, (Json(updated_messages), str(chat_id)))\n",
    "        connection.commit()\n",
    "        print(f\"Successfully updated new message to chat with UUID: {chat_id}\")\n",
    "    except Exception as e:\n",
    "        print(f\"Error updating chat_messages: {e}\")\n",
    "        connection.rollback()"
   ]
  },
  {
   "cell_type": "code",
   "execution_count": 7,
   "id": "b2e192b9-de19-4827-a8cf-f8a49d9a5dd0",
   "metadata": {},
   "outputs": [
    {
     "name": "stdout",
     "output_type": "stream",
     "text": [
      "Connected to the PostgreSQL database successfully.\n"
     ]
    }
   ],
   "source": [
    "try:\n",
    "    connection = psycopg2.connect(\n",
    "        host=DB_HOST,\n",
    "        port=DB_PORT,\n",
    "        database=DB_NAME,\n",
    "        user=DB_USER,\n",
    "        password=DB_PASSWORD\n",
    "    )\n",
    "    cursor = connection.cursor()\n",
    "    print(\"Connected to the PostgreSQL database successfully.\")\n",
    "except Exception as e:\n",
    "    print(f\"Error connecting to the database: {e}\")\n",
    "    exit(1)"
   ]
  },
  {
   "cell_type": "code",
   "execution_count": 13,
   "id": "400f9162-551a-4cb1-a6e1-397587fbc300",
   "metadata": {},
   "outputs": [
    {
     "data": {
      "text/markdown": [
       "## List is created on the fly from DB. Excess messages are truncated to stay in the context limit. \n"
      ],
      "text/plain": [
       "<IPython.core.display.Markdown object>"
      ]
     },
     "metadata": {},
     "output_type": "display_data"
    }
   ],
   "source": [
    "%%markdown\n",
    "## List is created on the fly from DB. Excess messages are truncated to stay in the context limit. "
   ]
  },
  {
   "cell_type": "code",
   "execution_count": 11,
   "id": "d831ceff-3a84-4bf7-a3a8-ebdbea7bb8fa",
   "metadata": {},
   "outputs": [],
   "source": [
    "messages: Sequence[BaseMessage] = []\n",
    "system_prompt = SystemMessage(content=\"Your name is 'Agustrama' and you are a helpful assistant responsible for helping the users in the best possible way. On the first conversation make sure to introduce your self.\")\n",
    "messages.append(system_prompt)"
   ]
  },
  {
   "cell_type": "code",
   "execution_count": 12,
   "id": "1e93fa25-8605-46c0-a0b0-39c8d9e64e0f",
   "metadata": {},
   "outputs": [
    {
     "name": "stdout",
     "output_type": "stream",
     "text": [
      "Inserted chat message with UUID: 2647b47b-3db5-4eb0-9fd8-6d1640010723\n"
     ]
    },
    {
     "name": "stdin",
     "output_type": "stream",
     "text": [
      "User:  Hi\n"
     ]
    },
    {
     "name": "stdout",
     "output_type": "stream",
     "text": [
      "Agustrama: Hello! I'm Agustrama, your helpful assistant. How can I assist you today?\n",
      "Successfully updated new message to chat with UUID: 2647b47b-3db5-4eb0-9fd8-6d1640010723\n"
     ]
    },
    {
     "name": "stdin",
     "output_type": "stream",
     "text": [
      "User:  Give me a simple word play joke.\n"
     ]
    },
    {
     "name": "stdout",
     "output_type": "stream",
     "text": [
      "Agustrama: Sure! Here's a classic one for you:\n",
      "\n",
      "Why did the scarecrow win an award?\n",
      "\n",
      "Because he was outstanding in his field!\n",
      "Successfully updated new message to chat with UUID: 2647b47b-3db5-4eb0-9fd8-6d1640010723\n"
     ]
    },
    {
     "name": "stdin",
     "output_type": "stream",
     "text": [
      "User:  Can you provide another one?\n"
     ]
    },
    {
     "name": "stdout",
     "output_type": "stream",
     "text": [
      "Agustrama: Of course! Here's another one for you:\n",
      "\n",
      "What do you call fake spaghetti?\n",
      "\n",
      "An impasta!\n",
      "Successfully updated new message to chat with UUID: 2647b47b-3db5-4eb0-9fd8-6d1640010723\n"
     ]
    },
    {
     "name": "stdin",
     "output_type": "stream",
     "text": [
      "User:  q\n"
     ]
    },
    {
     "name": "stdout",
     "output_type": "stream",
     "text": [
      "Agustrama: Thank you very much for contacting me. Hope to see you soon.\n",
      "Successfully updated new message to chat with UUID: 2647b47b-3db5-4eb0-9fd8-6d1640010723\n"
     ]
    }
   ],
   "source": [
    "while True:\n",
    "    # On first time chat start create a DB entry\n",
    "    if len(messages) == 1:\n",
    "        # Creating new Chat\n",
    "        chat_id = uuid.uuid4()\n",
    "        insert_chat_message(chat_id, messages_to_dict(messages))\n",
    "    else:\n",
    "        messages = messages_from_dict(fetch_chat_conversation(chat_id))\n",
    "    \n",
    "    msg = input(\"User: \")\n",
    "    if msg == 'q':\n",
    "        end_statement = f\"Agustrama: Thank you very much for contacting me. Hope to see you soon.\"\n",
    "        msg_dict = messages_to_dict(messages)\n",
    "        print(end_statement)\n",
    "        update_chat_messages(chat_id, msg_dict)\n",
    "        connection.close()\n",
    "        break;\n",
    "    \n",
    "    user_prompt = HumanMessage(content=msg)\n",
    "    messages.append(user_prompt)\n",
    "    \n",
    "    if len(messages) >= 7:\n",
    "        chat_messages = trim_messages(\n",
    "            messages,\n",
    "            token_counter=len,\n",
    "            max_tokens=5,\n",
    "            start_on=\"human\",\n",
    "            end_on=(\"human\", \"tool\"),\n",
    "            include_system=True,\n",
    "            allow_partial=False\n",
    "        )\n",
    "    \n",
    "        model_response = model.invoke(chat_messages)\n",
    "        print(f\"Agustrama: {model_response.content}\")\n",
    "        messages.append(model_response)\n",
    "        update_chat_messages(chat_id, messages_to_dict(messages))\n",
    "    else:\n",
    "        model_response = model.invoke(messages)\n",
    "        print(f\"Agustrama: {model_response.content}\")\n",
    "        messages.append(model_response)\n",
    "        update_chat_messages(chat_id, messages_to_dict(messages))"
   ]
  }
 ],
 "metadata": {
  "kernelspec": {
   "display_name": "Python 3 (ipykernel)",
   "language": "python",
   "name": "python3"
  },
  "language_info": {
   "codemirror_mode": {
    "name": "ipython",
    "version": 3
   },
   "file_extension": ".py",
   "mimetype": "text/x-python",
   "name": "python",
   "nbconvert_exporter": "python",
   "pygments_lexer": "ipython3",
   "version": "3.11.3"
  }
 },
 "nbformat": 4,
 "nbformat_minor": 5
}
