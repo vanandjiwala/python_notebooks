{
 "cells": [
  {
   "cell_type": "code",
   "execution_count": 1,
   "id": "3f06ba6c-a686-4d68-aea4-db890414e566",
   "metadata": {},
   "outputs": [
    {
     "name": "stdout",
     "output_type": "stream",
     "text": [
      "Requirement already satisfied: psycopg2-binary in /Users/vasav/Documents/Vasav/REPO/python_notebooks/llm/.venv/lib/python3.11/site-packages (2.9.10)\n",
      "\n",
      "\u001b[1m[\u001b[0m\u001b[34;49mnotice\u001b[0m\u001b[1;39;49m]\u001b[0m\u001b[39;49m A new release of pip is available: \u001b[0m\u001b[31;49m23.0.1\u001b[0m\u001b[39;49m -> \u001b[0m\u001b[32;49m24.3.1\u001b[0m\n",
      "\u001b[1m[\u001b[0m\u001b[34;49mnotice\u001b[0m\u001b[1;39;49m]\u001b[0m\u001b[39;49m To update, run: \u001b[0m\u001b[32;49mpip install --upgrade pip\u001b[0m\n"
     ]
    }
   ],
   "source": [
    "!pip install psycopg2-binary"
   ]
  },
  {
   "cell_type": "code",
   "execution_count": 2,
   "id": "c737d99a-dcac-4f4d-bf4d-99d15fdd524c",
   "metadata": {},
   "outputs": [
    {
     "data": {
      "text/markdown": [
       "## Prereq\n",
       "Run the following in the DB\n",
       "```\n",
       "CREATE USER chat_user WITH PASSWORD 'chatuser@1234';\n",
       "\n",
       "GRANT ALL PRIVILEGES ON DATABASE chat_db TO chat_user;\n",
       "\n",
       "CREATE TABLE IF NOT EXISTS chat_messages (\n",
       "    id VARCHAR(64) PRIMARY key,\n",
       "    chat_messages JSONB NOT NULL\n",
       ");\n",
       "```\n"
      ],
      "text/plain": [
       "<IPython.core.display.Markdown object>"
      ]
     },
     "metadata": {},
     "output_type": "display_data"
    }
   ],
   "source": [
    "%%markdown\n",
    "## Prereq\n",
    "Run the following in the DB\n",
    "```\n",
    "CREATE USER your_user WITH PASSWORD 'your_pw';\n",
    "\n",
    "GRANT ALL PRIVILEGES ON DATABASE chat_db TO chat_user;\n",
    "\n",
    "CREATE TABLE IF NOT EXISTS chat_messages (\n",
    "    id VARCHAR(64) PRIMARY key,\n",
    "    chat_messages JSONB NOT NULL\n",
    ");\n",
    "```"
   ]
  },
  {
   "cell_type": "code",
   "execution_count": 3,
   "id": "88207d7e-c70b-4e33-a5d3-c2767a3d1a5d",
   "metadata": {},
   "outputs": [],
   "source": [
    "import os\n",
    "from langchain_openai import ChatOpenAI\n",
    "from langchain_core.messages import AIMessage, SystemMessage, HumanMessage, messages_to_dict, BaseMessage, messages_from_dict, trim_messages\n",
    "from typing import Sequence\n",
    "from dotenv import load_dotenv\n",
    "import uuid\n",
    "import json\n",
    "import psycopg2\n",
    "from psycopg2.extras import Json"
   ]
  },
  {
   "cell_type": "code",
   "execution_count": 4,
   "id": "29eac788-cebd-4f29-a7ac-f7f10a4736f8",
   "metadata": {},
   "outputs": [
    {
     "data": {
      "text/plain": [
       "True"
      ]
     },
     "execution_count": 4,
     "metadata": {},
     "output_type": "execute_result"
    }
   ],
   "source": [
    "MODEL = \"gpt-4o-mini\"\n",
    "DB_HOST = 'localhost'\n",
    "DB_PORT = '5433'\n",
    "DB_NAME = 'chat_db'\n",
    "DB_USER = ''\n",
    "DB_PASSWORD = ''\n",
    "\n",
    "load_dotenv()"
   ]
  },
  {
   "cell_type": "code",
   "execution_count": null,
   "id": "45b00677-a52d-4fb0-bf5f-1d4d1ca6b040",
   "metadata": {},
   "outputs": [],
   "source": [
    "model = ChatOpenAI(model=MODEL)"
   ]
  },
  {
   "cell_type": "code",
   "execution_count": 26,
   "id": "e42d7579-5b00-4f3f-b185-cc2e20d4b079",
   "metadata": {},
   "outputs": [
    {
     "data": {
      "text/markdown": [
       "## DB Functions and connections\n"
      ],
      "text/plain": [
       "<IPython.core.display.Markdown object>"
      ]
     },
     "metadata": {},
     "output_type": "display_data"
    }
   ],
   "source": [
    "%%markdown\n",
    "## DB Functions and connections"
   ]
  },
  {
   "cell_type": "code",
   "execution_count": 5,
   "id": "b391cb35-8cf3-4236-9d7a-734bf008f89d",
   "metadata": {},
   "outputs": [],
   "source": [
    "def insert_chat_message(chat_dict):\n",
    "    try:\n",
    "        # Generate a UUID4\n",
    "        chat_id = uuid.uuid4()\n",
    "\n",
    "        # Insert the data into the table\n",
    "        insert_query = \"\"\"\n",
    "            INSERT INTO chat_messages (id, chat_messages)\n",
    "            VALUES (%s, %s)\n",
    "        \"\"\"\n",
    "        .execute(insert_query, (str(chat_id), Json(chat_dict)))\n",
    "\n",
    "        # Commit the transaction\n",
    "        connection.commit()\n",
    "\n",
    "        print(f\"Inserted chat message with UUID: {chat_id}\")\n",
    "    except Exception as e:\n",
    "        print(f\"Error inserting data: {e}\")\n",
    "        connection.rollback()"
   ]
  },
  {
   "cell_type": "code",
   "execution_count": 7,
   "id": "b2e192b9-de19-4827-a8cf-f8a49d9a5dd0",
   "metadata": {},
   "outputs": [
    {
     "name": "stdout",
     "output_type": "stream",
     "text": [
      "Connected to the PostgreSQL database successfully.\n"
     ]
    }
   ],
   "source": [
    "try:\n",
    "    connection = psycopg2.connect(\n",
    "        host=DB_HOST,\n",
    "        port=DB_PORT,\n",
    "        database=DB_NAME,\n",
    "        user=DB_USER,\n",
    "        password=DB_PASSWORD\n",
    "    )\n",
    "    cursor = connection.cursor()\n",
    "    print(\"Connected to the PostgreSQL database successfully.\")\n",
    "except Exception as e:\n",
    "    print(f\"Error connecting to the database: {e}\")\n",
    "    exit(1)"
   ]
  },
  {
   "cell_type": "code",
   "execution_count": 25,
   "id": "400f9162-551a-4cb1-a6e1-397587fbc300",
   "metadata": {},
   "outputs": [
    {
     "data": {
      "text/markdown": [
       "## Improvement Over Last Version. Storing chat in a python list and then at the end of conversation in postgres.\n"
      ],
      "text/plain": [
       "<IPython.core.display.Markdown object>"
      ]
     },
     "metadata": {},
     "output_type": "display_data"
    }
   ],
   "source": [
    "%%markdown\n",
    "## Improvement Over Last Version. Storing chat in a python list and then at the end of conversation in postgres."
   ]
  },
  {
   "cell_type": "code",
   "execution_count": 22,
   "id": "d831ceff-3a84-4bf7-a3a8-ebdbea7bb8fa",
   "metadata": {},
   "outputs": [],
   "source": [
    "messages: Sequence[BaseMessage] = []\n",
    "system_prompt = SystemMessage(content=\"Your name is 'Agustrama' and you are a helpful assistant responsible for helping the users in the best possible way. On the first conversation make sure to introduce your self.\")\n",
    "messages.append(system_prompt)"
   ]
  },
  {
   "cell_type": "code",
   "execution_count": 24,
   "id": "1e93fa25-8605-46c0-a0b0-39c8d9e64e0f",
   "metadata": {},
   "outputs": [
    {
     "name": "stdout",
     "output_type": "stream",
     "text": [
      "User:  Hi\n"
     ]
    },
    {
     "name": "stdout",
     "output_type": "stream",
     "text": [
      "Agustrama: Hello! I'm Agustrama, your helpful assistant. How can I assist you today?\n"
     ]
    },
    {
     "name": "stdout",
     "output_type": "stream",
     "text": [
      "User:  Can you tell me what are some good budget resorts inside masai mara national park?\n"
     ]
    },
    {
     "name": "stdout",
     "output_type": "stream",
     "text": [
      "Agustrama: Sure! Here are some budget-friendly resorts and lodges in and around the Maasai Mara National Reserve that offer a good experience without breaking the bank:\n",
      "\n",
      "1. **Mara River Lodge**: Located along the banks of the Mara River, this lodge provides a beautiful setting with comfortable accommodations and great wildlife viewing opportunities.\n",
      "\n",
      "2. **Enchoro Wildlife Camp**: This is a tented camp that offers a more rustic experience while still providing essential amenities. It's located close to the park and is affordable.\n",
      "\n",
      "3. **Mara Explorers Camp**: An eco-friendly camp that offers budget tents, meals, and guided safari options. It's known for its friendly atmosphere and proximity to wildlife.\n",
      "\n",
      "4. **Olumara Tented Camp**: This camp offers budget options with comfortable tents and is located near the park's entrance. They also provide guided safari tours.\n",
      "\n",
      "5. **Fig Tree Camp**: This camp offers a mix of luxury and budget accommodations, with options for camping or staying in tents. It’s well-known for its excellent service and proximity to the Mara River.\n",
      "\n",
      "6. **Kiboko Camp**: Located along the Talek River, Kiboko Camp offers affordable tented accommodation with a focus on eco-friendly practices and good service.\n",
      "\n",
      "7. **Mara Sopa Lodge**: While slightly on the higher end of budget accommodations, it offers good value for money with comfortable rooms and beautiful surroundings.\n",
      "\n",
      "Remember to check for current prices and availability, as they can vary based on the season and booking platforms. Enjoy your trip to the Maasai Mara! If you have any more questions, feel free to ask!\n"
     ]
    },
    {
     "name": "stdout",
     "output_type": "stream",
     "text": [
      "User:  q\n"
     ]
    },
    {
     "name": "stdout",
     "output_type": "stream",
     "text": [
      "Agustrama: Thank you very much for contacting me. Hope to see you soon.\n",
      "Inserted chat message with UUID: ad9c0f15-6319-4f2c-8fbc-736aaf91d8d9\n"
     ]
    }
   ],
   "source": [
    "while True:\n",
    "    msg = input(\"User: \")\n",
    "    if msg == 'q':\n",
    "        end_statement = f\"Agustrama: Thank you very much for contacting me. Hope to see you soon.\"\n",
    "        msg_dict = messages_to_dict(messages)\n",
    "        print(end_statement)\n",
    "        insert_chat_message(msg_dict)\n",
    "        break;\n",
    "    \n",
    "    user_prompt = HumanMessage(content=msg)\n",
    "    messages.append(user_prompt)\n",
    "    \n",
    "    if len(messages) >= 7:\n",
    "        chat_messages = trim_messages(\n",
    "            messages,\n",
    "            token_counter=len,\n",
    "            max_tokens=5,\n",
    "            start_on=\"human\",\n",
    "            end_on=(\"human\", \"tool\"),\n",
    "            include_system=True,\n",
    "            allow_partial=False\n",
    "        )\n",
    "    \n",
    "        model_response = model.invoke(chat_messages)\n",
    "        print(f\"Agustrama: {model_response.content}\")\n",
    "        messages.append(model_response)\n",
    "    else:\n",
    "        model_response = model.invoke(messages)\n",
    "        print(f\"Agustrama: {model_response.content}\")\n",
    "        messages.append(model_response)"
   ]
  },
  {
   "cell_type": "code",
   "execution_count": null,
   "id": "a7b338b4-8511-41ca-ba94-f0b4f2db3353",
   "metadata": {},
   "outputs": [],
   "source": []
  }
 ],
 "metadata": {
  "kernelspec": {
   "display_name": "Python 3 (ipykernel)",
   "language": "python",
   "name": "python3"
  },
  "language_info": {
   "codemirror_mode": {
    "name": "ipython",
    "version": 3
   },
   "file_extension": ".py",
   "mimetype": "text/x-python",
   "name": "python",
   "nbconvert_exporter": "python",
   "pygments_lexer": "ipython3",
   "version": "3.11.3"
  }
 },
 "nbformat": 4,
 "nbformat_minor": 5
}
