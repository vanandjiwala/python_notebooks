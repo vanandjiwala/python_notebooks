{
 "cells": [
  {
   "cell_type": "code",
   "execution_count": 1,
   "id": "db5e6c6a-f94d-4712-953b-ebb03328ae15",
   "metadata": {},
   "outputs": [
    {
     "name": "stdout",
     "output_type": "stream",
     "text": [
      "Collecting python-dotenv\n",
      "  Using cached python_dotenv-1.0.1-py3-none-any.whl (19 kB)\n",
      "Installing collected packages: python-dotenv\n",
      "Successfully installed python-dotenv-1.0.1\n",
      "\n",
      "\u001b[1m[\u001b[0m\u001b[34;49mnotice\u001b[0m\u001b[1;39;49m]\u001b[0m\u001b[39;49m A new release of pip is available: \u001b[0m\u001b[31;49m23.0.1\u001b[0m\u001b[39;49m -> \u001b[0m\u001b[32;49m24.3.1\u001b[0m\n",
      "\u001b[1m[\u001b[0m\u001b[34;49mnotice\u001b[0m\u001b[1;39;49m]\u001b[0m\u001b[39;49m To update, run: \u001b[0m\u001b[32;49mpip install --upgrade pip\u001b[0m\n"
     ]
    }
   ],
   "source": [
    "!pip install python-dotenv"
   ]
  },
  {
   "cell_type": "code",
   "execution_count": 2,
   "id": "2c6b1b9c-764e-4d4e-969b-99cbb09e1a18",
   "metadata": {},
   "outputs": [
    {
     "name": "stdout",
     "output_type": "stream",
     "text": [
      "Collecting openai\n",
      "  Downloading openai-1.57.3-py3-none-any.whl (390 kB)\n",
      "\u001b[2K     \u001b[90m━━━━━━━━━━━━━━━━━━━━━━━━━━━━━━━━━━━━━━━\u001b[0m \u001b[32m390.2/390.2 kB\u001b[0m \u001b[31m6.0 MB/s\u001b[0m eta \u001b[36m0:00:00\u001b[0ma \u001b[36m0:00:01\u001b[0m\n",
      "\u001b[?25hRequirement already satisfied: anyio<5,>=3.5.0 in /Users/vasav/Documents/Vasav/REPO/python_notebooks/llm/.venv/lib/python3.11/site-packages (from openai) (4.7.0)\n",
      "Collecting distro<2,>=1.7.0\n",
      "  Using cached distro-1.9.0-py3-none-any.whl (20 kB)\n",
      "Requirement already satisfied: httpx<1,>=0.23.0 in /Users/vasav/Documents/Vasav/REPO/python_notebooks/llm/.venv/lib/python3.11/site-packages (from openai) (0.28.1)\n",
      "Collecting jiter<1,>=0.4.0\n",
      "  Downloading jiter-0.8.2-cp311-cp311-macosx_11_0_arm64.whl (311 kB)\n",
      "\u001b[2K     \u001b[90m━━━━━━━━━━━━━━━━━━━━━━━━━━━━━━━━━━━━━━\u001b[0m \u001b[32m311.9/311.9 kB\u001b[0m \u001b[31m23.7 MB/s\u001b[0m eta \u001b[36m0:00:00\u001b[0m\n",
      "Collecting pydantic<3,>=1.9.0\n",
      "  Using cached pydantic-2.10.3-py3-none-any.whl (456 kB)\n",
      "Requirement already satisfied: sniffio in /Users/vasav/Documents/Vasav/REPO/python_notebooks/llm/.venv/lib/python3.11/site-packages (from openai) (1.3.1)\n",
      "Collecting tqdm>4\n",
      "  Using cached tqdm-4.67.1-py3-none-any.whl (78 kB)\n",
      "Requirement already satisfied: typing-extensions<5,>=4.11 in /Users/vasav/Documents/Vasav/REPO/python_notebooks/llm/.venv/lib/python3.11/site-packages (from openai) (4.12.2)\n",
      "Requirement already satisfied: idna>=2.8 in /Users/vasav/Documents/Vasav/REPO/python_notebooks/llm/.venv/lib/python3.11/site-packages (from anyio<5,>=3.5.0->openai) (3.10)\n",
      "Requirement already satisfied: certifi in /Users/vasav/Documents/Vasav/REPO/python_notebooks/llm/.venv/lib/python3.11/site-packages (from httpx<1,>=0.23.0->openai) (2024.8.30)\n",
      "Requirement already satisfied: httpcore==1.* in /Users/vasav/Documents/Vasav/REPO/python_notebooks/llm/.venv/lib/python3.11/site-packages (from httpx<1,>=0.23.0->openai) (1.0.7)\n",
      "Requirement already satisfied: h11<0.15,>=0.13 in /Users/vasav/Documents/Vasav/REPO/python_notebooks/llm/.venv/lib/python3.11/site-packages (from httpcore==1.*->httpx<1,>=0.23.0->openai) (0.14.0)\n",
      "Collecting annotated-types>=0.6.0\n",
      "  Using cached annotated_types-0.7.0-py3-none-any.whl (13 kB)\n",
      "Collecting pydantic-core==2.27.1\n",
      "  Using cached pydantic_core-2.27.1-cp311-cp311-macosx_11_0_arm64.whl (1.8 MB)\n",
      "Installing collected packages: tqdm, pydantic-core, jiter, distro, annotated-types, pydantic, openai\n",
      "Successfully installed annotated-types-0.7.0 distro-1.9.0 jiter-0.8.2 openai-1.57.3 pydantic-2.10.3 pydantic-core-2.27.1 tqdm-4.67.1\n",
      "\n",
      "\u001b[1m[\u001b[0m\u001b[34;49mnotice\u001b[0m\u001b[1;39;49m]\u001b[0m\u001b[39;49m A new release of pip is available: \u001b[0m\u001b[31;49m23.0.1\u001b[0m\u001b[39;49m -> \u001b[0m\u001b[32;49m24.3.1\u001b[0m\n",
      "\u001b[1m[\u001b[0m\u001b[34;49mnotice\u001b[0m\u001b[1;39;49m]\u001b[0m\u001b[39;49m To update, run: \u001b[0m\u001b[32;49mpip install --upgrade pip\u001b[0m\n"
     ]
    }
   ],
   "source": [
    "!pip install openai"
   ]
  },
  {
   "cell_type": "code",
   "execution_count": 3,
   "id": "904d27c5-7439-4e26-903b-8cc8519a2352",
   "metadata": {},
   "outputs": [
    {
     "data": {
      "text/markdown": [
       "## References\n",
       "1. https://platform.openai.com/docs/api-reference/introduction\n"
      ],
      "text/plain": [
       "<IPython.core.display.Markdown object>"
      ]
     },
     "metadata": {},
     "output_type": "display_data"
    }
   ],
   "source": [
    "%%markdown\n",
    "\n",
    "## API key Setup\n",
    "- Please get openai api key from `https://platform.openai.com/`\n",
    "- Create a `.env` file in the same directory as notebook\n",
    "- Put the following content in the file\n",
    "```\n",
    "OPENAI_API_KEY=YOUR API KEY\n",
    "```\n",
    "\n",
    "## References\n",
    "1. https://platform.openai.com/docs/api-reference/introduction"
   ]
  },
  {
   "cell_type": "code",
   "execution_count": 22,
   "id": "b6a4d8e9-779f-4698-bb79-c6b0fb4d3285",
   "metadata": {},
   "outputs": [],
   "source": [
    "from openai import OpenAI\n",
    "from dotenv import load_dotenv\n",
    "import os\n",
    "from IPython.display import Markdown, display"
   ]
  },
  {
   "cell_type": "code",
   "execution_count": 14,
   "id": "dbaface5-2494-4ec1-967e-a67d505231c3",
   "metadata": {},
   "outputs": [],
   "source": [
    "MODEL = \"gpt-4o-mini\""
   ]
  },
  {
   "cell_type": "code",
   "execution_count": 7,
   "id": "b5cc3c6c-d16f-4beb-9cd7-730da75043d6",
   "metadata": {},
   "outputs": [],
   "source": [
    "load_dotenv()\n",
    "openai = OpenAI()"
   ]
  },
  {
   "cell_type": "code",
   "execution_count": 12,
   "id": "d6df6c34-43fc-46e4-8248-0f67c0a5aabc",
   "metadata": {},
   "outputs": [],
   "source": [
    "system_prompt = f\"\"\"\n",
    "You are an expert branding consultant. Your job is to create a copy for a product. \n",
    "\"\"\"\n",
    "\n",
    "prompt = f\"\"\"\n",
    "Write a social media copy on the launch of the below product. Product specification are provided below:\n",
    "```\n",
    "**SaaS Description: DocumentGPT – Your AI-Powered Process Navigator**\n",
    "\n",
    "**Overview:**\n",
    "DocumentGPT is a cutting-edge SaaS platform designed to help businesses unlock the full potential of their internal documents. By leveraging advanced AI-powered chat technology, DocumentGPT enables users to seamlessly interact with company documents, policies, and process manuals to gain insights, clarify doubts, and navigate workflows efficiently.\n",
    "\n",
    "**Features:**\n",
    "\n",
    "1. **Interactive Document Chat:**\n",
    "   - Users can ask natural language questions and get precise, context-aware answers directly from company documents.\n",
    "   - Handles complex queries by synthesizing information from multiple sections.\n",
    "\n",
    "2. **Customizable Document Integration:**\n",
    "   - Easily upload various document formats (PDFs, Word files, spreadsheets, etc.).\n",
    "   - Categorize and tag documents for streamlined searches.\n",
    "\n",
    "3. **AI-Powered Process Guidance:**\n",
    "   - Provides step-by-step explanations of company processes.\n",
    "   - Highlights key information such as approvals, deadlines, and exceptions.\n",
    "\n",
    "4. **Advanced Search & Summarization:**\n",
    "   - Quickly locate relevant sections in extensive documents.\n",
    "   - Generates concise summaries for high-level overviews.\n",
    "\n",
    "5. **Collaborative Features:**\n",
    "   - Enable teams to share query results and collaborate on understanding processes.\n",
    "   - Track common questions to identify training gaps or areas needing clarity.\n",
    "\n",
    "6. **Secure & Scalable:**\n",
    "   - Enterprise-grade security ensures sensitive data stays protected.\n",
    "   - Scalable for businesses of any size, from startups to large enterprises.\n",
    "\n",
    "**Benefits:**\n",
    "- **Enhanced Efficiency:** Reduce the time spent searching for answers or interpreting complex documents.\n",
    "- **Improved Understanding:** Simplify learning curves for new employees and enhance compliance with internal processes.\n",
    "- **Cost Savings:** Minimize dependency on training resources and reduce errors in following company workflows.\n",
    "- **Custom Insights:** Get tailored insights specific to your organization’s unique processes.\n",
    "\n",
    "**Use Cases:**\n",
    "- **Employee Onboarding:** Streamline training by offering instant answers to questions about policies and workflows.\n",
    "- **Compliance Audits:** Ensure clear understanding of guidelines and regulations during audits.\n",
    "- **Process Optimization:** Identify bottlenecks or frequently misunderstood steps in company procedures.\n",
    "\n",
    "DocumentGPT is the ultimate tool to transform how your team interacts with company knowledge, empowering them to work smarter, not harder. Make company processes accessible, understandable, and actionable – all with the power of AI.\n",
    "```\n",
    "\n",
    "The response should only content the copy of the product in a valid MARKDOWN syntax. \n",
    "\"\"\""
   ]
  },
  {
   "cell_type": "code",
   "execution_count": 15,
   "id": "a4e74023-d8ce-4cc2-b3af-5823359e1f1d",
   "metadata": {},
   "outputs": [],
   "source": [
    "completion = openai.chat.completions.create(\n",
    "    model=MODEL,\n",
    "    messages=[\n",
    "        {\"role\": \"system\", \"content\": system_prompt},\n",
    "        {\"role\": \"user\", \"content\": prompt}\n",
    "    ]\n",
    ")"
   ]
  },
  {
   "cell_type": "code",
   "execution_count": 23,
   "id": "a9e9f7ed-f3aa-47bf-9120-7e52c3da2c86",
   "metadata": {},
   "outputs": [
    {
     "data": {
      "text/markdown": [
       "```markdown\n",
       "🚀 **Introducing DocumentGPT – Your AI-Powered Process Navigator!** 🧠💼\n",
       "\n",
       "Unlock the full potential of your company's internal documents with our cutting-edge SaaS platform! DocumentGPT transforms the way you interact with essential documents, policies, and process manuals, making information easier to access and understand.\n",
       "\n",
       "✨ **Why Choose DocumentGPT?**  \n",
       "- **Interactive Document Chat:** Ask natural language questions and get precise, context-aware answers directly from your documents. \n",
       "- **Customizable Document Integration:** Upload and categorize your PDFs, Word files, spreadsheets, and more for streamlined searching!\n",
       "- **AI-Powered Process Guidance:** Navigate workflows effortlessly with step-by-step explanations and highlighted key information.\n",
       "- **Advanced Search & Summarization:** Quickly locate relevant sections and receive concise summaries for high-level overviews.\n",
       "- **Collaborative Features:** Share query results, track common questions, and improve team understanding.\n",
       "- **Secure & Scalable:** With enterprise-grade security, your sensitive data stays protected, and our platform grows with your business.\n",
       "\n",
       "🏆 **Transform Your Workplace:**\n",
       "- **Enhanced Efficiency:** Say goodbye to long searches and complicated document interpretations!\n",
       "- **Improved Understanding:** Help new employees onboard smoothly and ensure compliance with internal processes.\n",
       "- **Cost Savings:** Cut down on training resources and reduce errors in workflows.\n",
       "- **Custom Insights:** Receive tailored insights that cater to your organization’s unique processes.\n",
       "\n",
       "🔍 **Use Cases:**\n",
       "- Streamlined employee onboarding.\n",
       "- Clear compliance audits.\n",
       "- Identifying bottlenecks in company procedures.\n",
       "\n",
       "💡 *DocumentGPT empowers your team to work smarter, not harder. Make your company processes accessible, understandable, and actionable with the power of AI.* \n",
       "\n",
       "🌐 **Ready to revolutionize the way your team navigates knowledge?** Explore DocumentGPT today!\n",
       "```\n"
      ],
      "text/plain": [
       "<IPython.core.display.Markdown object>"
      ]
     },
     "metadata": {},
     "output_type": "display_data"
    }
   ],
   "source": [
    "display(Markdown(completion.choices[0].message.content))"
   ]
  },
  {
   "cell_type": "code",
   "execution_count": 24,
   "id": "13f5efc1-6db1-496f-9e07-e5eb7962144f",
   "metadata": {},
   "outputs": [
    {
     "data": {
      "text/markdown": [
       "## Few Shot Prompting\n"
      ],
      "text/plain": [
       "<IPython.core.display.Markdown object>"
      ]
     },
     "metadata": {},
     "output_type": "display_data"
    }
   ],
   "source": [
    "%%markdown\n",
    "## Few Shot Prompting"
   ]
  },
  {
   "cell_type": "code",
   "execution_count": 25,
   "id": "a52ac94c-8b1c-4dfc-a2bc-973f2b65357e",
   "metadata": {},
   "outputs": [],
   "source": [
    "example_comments = [\n",
    "  {\n",
    "    \"comment\": \"Great ambiance and delicious food, will definitely come back!\",\n",
    "    \"sentiment\": \"Positive\"\n",
    "  },\n",
    "  {\n",
    "    \"comment\": \"The service was quick and friendly, but the food was a bit too salty.\",\n",
    "    \"sentiment\": \"Neutral\"\n",
    "  },\n",
    "  {\n",
    "    \"comment\": \"Cozy spot with amazing desserts, highly recommend the chocolate cake!\",\n",
    "    \"sentiment\": \"Positive\"\n",
    "  },\n",
    "  {\n",
    "    \"comment\": \"Food was bland and overpriced, not coming back.\",\n",
    "    \"sentiment\": \"Negative\"\n",
    "  },\n",
    "  {\n",
    "    \"comment\": \"The meal was fine, but nothing special—just average.\",\n",
    "    \"sentiment\": \"Neutral\"\n",
    "  }\n",
    "]"
   ]
  },
  {
   "cell_type": "code",
   "execution_count": 34,
   "id": "95580885-915b-4648-b076-a265ee3d4d44",
   "metadata": {},
   "outputs": [],
   "source": [
    "system_prompt = f\"\"\"\n",
    "You are an assistant. Your job is to perform sentiment analysis on the review. \n",
    "\"\"\""
   ]
  },
  {
   "cell_type": "code",
   "execution_count": 41,
   "id": "45949fc5-6003-4fc5-8f08-f837344ac655",
   "metadata": {},
   "outputs": [],
   "source": [
    "comment = f\"comment: Waited too long for a table, but the food was okay.\""
   ]
  },
  {
   "cell_type": "code",
   "execution_count": 36,
   "id": "7a2e73b9-44d2-4045-9fc4-cda06671cb99",
   "metadata": {},
   "outputs": [
    {
     "data": {
      "text/plain": [
       "[{'comment': 'Great ambiance and delicious food, will definitely come back!',\n",
       "  'sentiment': 'Positive'},\n",
       " {'comment': 'The service was quick and friendly, but the food was a bit too salty.',\n",
       "  'sentiment': 'Neutral'},\n",
       " {'comment': 'Cozy spot with amazing desserts, highly recommend the chocolate cake!',\n",
       "  'sentiment': 'Positive'},\n",
       " {'comment': 'Food was bland and overpriced, not coming back.',\n",
       "  'sentiment': 'Negative'},\n",
       " {'comment': 'The meal was fine, but nothing special—just average.',\n",
       "  'sentiment': 'Neutral'}]"
      ]
     },
     "execution_count": 36,
     "metadata": {},
     "output_type": "execute_result"
    }
   ],
   "source": [
    "example_comments"
   ]
  },
  {
   "cell_type": "code",
   "execution_count": 37,
   "id": "1cb89c16-d5de-400b-b714-0ccf77019ab0",
   "metadata": {},
   "outputs": [],
   "source": [
    "messages=[\n",
    "        {\"role\": \"system\", \"content\": system_prompt},\n",
    "        {\"role\": \"user\", \"content\": example_comments[0][\"comment\"]},\n",
    "        {\"role\": \"assistant\", \"content\": example_comments[0][\"sentiment\"]},\n",
    "        {\"role\": \"user\", \"content\": example_comments[1][\"comment\"]},\n",
    "        {\"role\": \"assistant\", \"content\": example_comments[1][\"sentiment\"]},\n",
    "        {\"role\": \"user\", \"content\": example_comments[2][\"comment\"]},\n",
    "        {\"role\": \"assistant\", \"content\": example_comments[2][\"sentiment\"]},\n",
    "        {\"role\": \"user\", \"content\": comment}\n",
    "    ]"
   ]
  },
  {
   "cell_type": "code",
   "execution_count": 40,
   "id": "a1c306f8-f7f9-451b-83f0-20cdaf8de84d",
   "metadata": {},
   "outputs": [
    {
     "data": {
      "text/plain": [
       "[{'role': 'system',\n",
       "  'content': '\\nYou are an assistant. Your job is to perform sentiment analysis on the review. \\n'},\n",
       " {'role': 'user',\n",
       "  'content': 'Great ambiance and delicious food, will definitely come back!'},\n",
       " {'role': 'assistant', 'content': 'Positive'},\n",
       " {'role': 'user',\n",
       "  'content': 'The service was quick and friendly, but the food was a bit too salty.'},\n",
       " {'role': 'assistant', 'content': 'Neutral'},\n",
       " {'role': 'user',\n",
       "  'content': 'Cozy spot with amazing desserts, highly recommend the chocolate cake!'},\n",
       " {'role': 'assistant', 'content': 'Positive'},\n",
       " {'role': 'user',\n",
       "  'content': 'commend: Waited too long for a table, but the food was okay.'}]"
      ]
     },
     "execution_count": 40,
     "metadata": {},
     "output_type": "execute_result"
    }
   ],
   "source": [
    "messages"
   ]
  },
  {
   "cell_type": "code",
   "execution_count": 38,
   "id": "e882b10b-761f-4e46-8e9e-0a87e1866742",
   "metadata": {},
   "outputs": [],
   "source": [
    "completion = openai.chat.completions.create(\n",
    "    model=MODEL,\n",
    "    messages= messages\n",
    ")"
   ]
  },
  {
   "cell_type": "code",
   "execution_count": 39,
   "id": "07b1400b-cd05-48e0-af9f-9a73d5c770bb",
   "metadata": {},
   "outputs": [
    {
     "name": "stdout",
     "output_type": "stream",
     "text": [
      "Mixed\n"
     ]
    }
   ],
   "source": [
    "print(completion.choices[0].message.content)"
   ]
  },
  {
   "cell_type": "code",
   "execution_count": null,
   "id": "42e05594-decb-4188-8afe-d91527ff93cc",
   "metadata": {},
   "outputs": [],
   "source": [
    "from langchain_core.prompts import Few"
   ]
  }
 ],
 "metadata": {
  "kernelspec": {
   "display_name": "Python 3 (ipykernel)",
   "language": "python",
   "name": "python3"
  },
  "language_info": {
   "codemirror_mode": {
    "name": "ipython",
    "version": 3
   },
   "file_extension": ".py",
   "mimetype": "text/x-python",
   "name": "python",
   "nbconvert_exporter": "python",
   "pygments_lexer": "ipython3",
   "version": "3.11.3"
  }
 },
 "nbformat": 4,
 "nbformat_minor": 5
}
