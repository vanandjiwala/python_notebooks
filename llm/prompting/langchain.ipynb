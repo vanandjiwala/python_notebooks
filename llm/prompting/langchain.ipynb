{
 "cells": [
  {
   "cell_type": "code",
   "execution_count": 1,
   "id": "a1d04e3a-89e4-4b7e-900e-71f1d6ad804c",
   "metadata": {},
   "outputs": [
    {
     "name": "stdout",
     "output_type": "stream",
     "text": [
      "\n",
      "\u001b[1m[\u001b[0m\u001b[34;49mnotice\u001b[0m\u001b[1;39;49m]\u001b[0m\u001b[39;49m A new release of pip is available: \u001b[0m\u001b[31;49m23.0.1\u001b[0m\u001b[39;49m -> \u001b[0m\u001b[32;49m24.3.1\u001b[0m\n",
      "\u001b[1m[\u001b[0m\u001b[34;49mnotice\u001b[0m\u001b[1;39;49m]\u001b[0m\u001b[39;49m To update, run: \u001b[0m\u001b[32;49mpip install --upgrade pip\u001b[0m\n"
     ]
    }
   ],
   "source": [
    "!pip install -qU langchain-openai"
   ]
  },
  {
   "cell_type": "code",
   "execution_count": 2,
   "id": "a9fa7675-bcf7-4e68-841c-eedaf3e5b54b",
   "metadata": {},
   "outputs": [
    {
     "name": "stdout",
     "output_type": "stream",
     "text": [
      "Requirement already satisfied: langchain-core in /Users/vasav/Documents/Vasav/REPO/python_notebooks/llm/.venv/lib/python3.11/site-packages (0.3.25)\n",
      "Requirement already satisfied: PyYAML>=5.3 in /Users/vasav/Documents/Vasav/REPO/python_notebooks/llm/.venv/lib/python3.11/site-packages (from langchain-core) (6.0.2)\n",
      "Requirement already satisfied: jsonpatch<2.0,>=1.33 in /Users/vasav/Documents/Vasav/REPO/python_notebooks/llm/.venv/lib/python3.11/site-packages (from langchain-core) (1.33)\n",
      "Requirement already satisfied: langsmith<0.3,>=0.1.125 in /Users/vasav/Documents/Vasav/REPO/python_notebooks/llm/.venv/lib/python3.11/site-packages (from langchain-core) (0.2.3)\n",
      "Requirement already satisfied: packaging<25,>=23.2 in /Users/vasav/Documents/Vasav/REPO/python_notebooks/llm/.venv/lib/python3.11/site-packages (from langchain-core) (24.2)\n",
      "Requirement already satisfied: pydantic<3.0.0,>=2.5.2 in /Users/vasav/Documents/Vasav/REPO/python_notebooks/llm/.venv/lib/python3.11/site-packages (from langchain-core) (2.10.3)\n",
      "Requirement already satisfied: tenacity!=8.4.0,<10.0.0,>=8.1.0 in /Users/vasav/Documents/Vasav/REPO/python_notebooks/llm/.venv/lib/python3.11/site-packages (from langchain-core) (9.0.0)\n",
      "Requirement already satisfied: typing-extensions>=4.7 in /Users/vasav/Documents/Vasav/REPO/python_notebooks/llm/.venv/lib/python3.11/site-packages (from langchain-core) (4.12.2)\n",
      "Requirement already satisfied: jsonpointer>=1.9 in /Users/vasav/Documents/Vasav/REPO/python_notebooks/llm/.venv/lib/python3.11/site-packages (from jsonpatch<2.0,>=1.33->langchain-core) (3.0.0)\n",
      "Requirement already satisfied: httpx<1,>=0.23.0 in /Users/vasav/Documents/Vasav/REPO/python_notebooks/llm/.venv/lib/python3.11/site-packages (from langsmith<0.3,>=0.1.125->langchain-core) (0.28.1)\n",
      "Requirement already satisfied: orjson<4.0.0,>=3.9.14 in /Users/vasav/Documents/Vasav/REPO/python_notebooks/llm/.venv/lib/python3.11/site-packages (from langsmith<0.3,>=0.1.125->langchain-core) (3.10.12)\n",
      "Requirement already satisfied: requests<3,>=2 in /Users/vasav/Documents/Vasav/REPO/python_notebooks/llm/.venv/lib/python3.11/site-packages (from langsmith<0.3,>=0.1.125->langchain-core) (2.32.3)\n",
      "Requirement already satisfied: requests-toolbelt<2.0.0,>=1.0.0 in /Users/vasav/Documents/Vasav/REPO/python_notebooks/llm/.venv/lib/python3.11/site-packages (from langsmith<0.3,>=0.1.125->langchain-core) (1.0.0)\n",
      "Requirement already satisfied: annotated-types>=0.6.0 in /Users/vasav/Documents/Vasav/REPO/python_notebooks/llm/.venv/lib/python3.11/site-packages (from pydantic<3.0.0,>=2.5.2->langchain-core) (0.7.0)\n",
      "Requirement already satisfied: pydantic-core==2.27.1 in /Users/vasav/Documents/Vasav/REPO/python_notebooks/llm/.venv/lib/python3.11/site-packages (from pydantic<3.0.0,>=2.5.2->langchain-core) (2.27.1)\n",
      "Requirement already satisfied: anyio in /Users/vasav/Documents/Vasav/REPO/python_notebooks/llm/.venv/lib/python3.11/site-packages (from httpx<1,>=0.23.0->langsmith<0.3,>=0.1.125->langchain-core) (4.7.0)\n",
      "Requirement already satisfied: certifi in /Users/vasav/Documents/Vasav/REPO/python_notebooks/llm/.venv/lib/python3.11/site-packages (from httpx<1,>=0.23.0->langsmith<0.3,>=0.1.125->langchain-core) (2024.8.30)\n",
      "Requirement already satisfied: httpcore==1.* in /Users/vasav/Documents/Vasav/REPO/python_notebooks/llm/.venv/lib/python3.11/site-packages (from httpx<1,>=0.23.0->langsmith<0.3,>=0.1.125->langchain-core) (1.0.7)\n",
      "Requirement already satisfied: idna in /Users/vasav/Documents/Vasav/REPO/python_notebooks/llm/.venv/lib/python3.11/site-packages (from httpx<1,>=0.23.0->langsmith<0.3,>=0.1.125->langchain-core) (3.10)\n",
      "Requirement already satisfied: h11<0.15,>=0.13 in /Users/vasav/Documents/Vasav/REPO/python_notebooks/llm/.venv/lib/python3.11/site-packages (from httpcore==1.*->httpx<1,>=0.23.0->langsmith<0.3,>=0.1.125->langchain-core) (0.14.0)\n",
      "Requirement already satisfied: charset-normalizer<4,>=2 in /Users/vasav/Documents/Vasav/REPO/python_notebooks/llm/.venv/lib/python3.11/site-packages (from requests<3,>=2->langsmith<0.3,>=0.1.125->langchain-core) (3.4.0)\n",
      "Requirement already satisfied: urllib3<3,>=1.21.1 in /Users/vasav/Documents/Vasav/REPO/python_notebooks/llm/.venv/lib/python3.11/site-packages (from requests<3,>=2->langsmith<0.3,>=0.1.125->langchain-core) (2.2.3)\n",
      "Requirement already satisfied: sniffio>=1.1 in /Users/vasav/Documents/Vasav/REPO/python_notebooks/llm/.venv/lib/python3.11/site-packages (from anyio->httpx<1,>=0.23.0->langsmith<0.3,>=0.1.125->langchain-core) (1.3.1)\n",
      "\n",
      "\u001b[1m[\u001b[0m\u001b[34;49mnotice\u001b[0m\u001b[1;39;49m]\u001b[0m\u001b[39;49m A new release of pip is available: \u001b[0m\u001b[31;49m23.0.1\u001b[0m\u001b[39;49m -> \u001b[0m\u001b[32;49m24.3.1\u001b[0m\n",
      "\u001b[1m[\u001b[0m\u001b[34;49mnotice\u001b[0m\u001b[1;39;49m]\u001b[0m\u001b[39;49m To update, run: \u001b[0m\u001b[32;49mpip install --upgrade pip\u001b[0m\n"
     ]
    }
   ],
   "source": [
    "!pip install langchain-core"
   ]
  },
  {
   "cell_type": "code",
   "execution_count": 18,
   "id": "c89f7aca-e6af-47e8-8e45-184718e8ef94",
   "metadata": {},
   "outputs": [
    {
     "data": {
      "text/markdown": [
       "## Check Langchain Providers here\n",
       "[Providers](https://python.langchain.com/docs/integrations/providers/)\n",
       "\n",
       "Note: We have used openai here\n"
      ],
      "text/plain": [
       "<IPython.core.display.Markdown object>"
      ]
     },
     "metadata": {},
     "output_type": "display_data"
    }
   ],
   "source": [
    "%%markdown\n",
    "## Check Langchain Providers here\n",
    "[Providers](https://python.langchain.com/docs/integrations/providers/)\n",
    "\n",
    "Note: We have used openai here"
   ]
  },
  {
   "cell_type": "code",
   "execution_count": 68,
   "id": "99190801-c46b-4aed-bbbd-70b3a6bd6e00",
   "metadata": {},
   "outputs": [],
   "source": [
    "import os\n",
    "from langchain_openai import ChatOpenAI\n",
    "from langchain_core.messages import AIMessage, HumanMessage, SystemMessage\n",
    "from langchain_core.prompts import PromptTemplate, FewShotPromptTemplate, ChatPromptTemplate\n",
    "from dotenv import load_dotenv\n",
    "from IPython.display import Markdown, display"
   ]
  },
  {
   "cell_type": "code",
   "execution_count": 10,
   "id": "de0cf720-d701-4c65-9bd8-e84e03849146",
   "metadata": {},
   "outputs": [
    {
     "data": {
      "text/plain": [
       "True"
      ]
     },
     "execution_count": 10,
     "metadata": {},
     "output_type": "execute_result"
    }
   ],
   "source": [
    "MODEL = \"gpt-4o-mini\"\n",
    "load_dotenv()"
   ]
  },
  {
   "cell_type": "code",
   "execution_count": 19,
   "id": "2b44e0f5-fa38-47e8-b19d-fb7240f66204",
   "metadata": {},
   "outputs": [
    {
     "data": {
      "text/markdown": [
       "## Zeroshot Prompting\n"
      ],
      "text/plain": [
       "<IPython.core.display.Markdown object>"
      ]
     },
     "metadata": {},
     "output_type": "display_data"
    }
   ],
   "source": [
    "%%markdown\n",
    "## Zeroshot Prompting"
   ]
  },
  {
   "cell_type": "code",
   "execution_count": 6,
   "id": "7500d9e4-9784-457c-8768-fee0bfeb61aa",
   "metadata": {},
   "outputs": [],
   "source": [
    "system_prompt = SystemMessage(content=\"You are an expert branding consultant. Your job is to create a copy for a product.\")\n",
    "user_prompt = HumanMessage(content=\"\"\"\n",
    "Write a social media copy on the launch of the below product. Product specification are provided below:\n",
    "```\n",
    "**SaaS Description: DocumentGPT – Your AI-Powered Process Navigator**\n",
    "\n",
    "**Overview:**\n",
    "DocumentGPT is a cutting-edge SaaS platform designed to help businesses unlock the full potential of their internal documents. By leveraging advanced AI-powered chat technology, DocumentGPT enables users to seamlessly interact with company documents, policies, and process manuals to gain insights, clarify doubts, and navigate workflows efficiently.\n",
    "\n",
    "**Features:**\n",
    "\n",
    "1. **Interactive Document Chat:**\n",
    "   - Users can ask natural language questions and get precise, context-aware answers directly from company documents.\n",
    "   - Handles complex queries by synthesizing information from multiple sections.\n",
    "\n",
    "2. **Customizable Document Integration:**\n",
    "   - Easily upload various document formats (PDFs, Word files, spreadsheets, etc.).\n",
    "   - Categorize and tag documents for streamlined searches.\n",
    "\n",
    "3. **AI-Powered Process Guidance:**\n",
    "   - Provides step-by-step explanations of company processes.\n",
    "   - Highlights key information such as approvals, deadlines, and exceptions.\n",
    "\n",
    "4. **Advanced Search & Summarization:**\n",
    "   - Quickly locate relevant sections in extensive documents.\n",
    "   - Generates concise summaries for high-level overviews.\n",
    "\n",
    "5. **Collaborative Features:**\n",
    "   - Enable teams to share query results and collaborate on understanding processes.\n",
    "   - Track common questions to identify training gaps or areas needing clarity.\n",
    "\n",
    "6. **Secure & Scalable:**\n",
    "   - Enterprise-grade security ensures sensitive data stays protected.\n",
    "   - Scalable for businesses of any size, from startups to large enterprises.\n",
    "\n",
    "**Benefits:**\n",
    "- **Enhanced Efficiency:** Reduce the time spent searching for answers or interpreting complex documents.\n",
    "- **Improved Understanding:** Simplify learning curves for new employees and enhance compliance with internal processes.\n",
    "- **Cost Savings:** Minimize dependency on training resources and reduce errors in following company workflows.\n",
    "- **Custom Insights:** Get tailored insights specific to your organization’s unique processes.\n",
    "\n",
    "**Use Cases:**\n",
    "- **Employee Onboarding:** Streamline training by offering instant answers to questions about policies and workflows.\n",
    "- **Compliance Audits:** Ensure clear understanding of guidelines and regulations during audits.\n",
    "- **Process Optimization:** Identify bottlenecks or frequently misunderstood steps in company procedures.\n",
    "\n",
    "DocumentGPT is the ultimate tool to transform how your team interacts with company knowledge, empowering them to work smarter, not harder. Make company processes accessible, understandable, and actionable – all with the power of AI.\n",
    "```\n",
    "\n",
    "The response should only content the copy of the product in a valid MARKDOWN syntax. \n",
    "\"\"\")"
   ]
  },
  {
   "cell_type": "code",
   "execution_count": 7,
   "id": "494f1a2d-a9ad-47c1-80d6-b0c566a29475",
   "metadata": {},
   "outputs": [],
   "source": [
    "messages = [system_prompt, user_prompt]"
   ]
  },
  {
   "cell_type": "code",
   "execution_count": 11,
   "id": "8f80a2ce-58ee-4849-aa98-11fdce596732",
   "metadata": {},
   "outputs": [],
   "source": [
    "openai = ChatOpenAI(model=MODEL)"
   ]
  },
  {
   "cell_type": "code",
   "execution_count": 12,
   "id": "9734872e-ac75-49bc-a308-64afd81827b3",
   "metadata": {},
   "outputs": [],
   "source": [
    "response = openai.invoke(messages)"
   ]
  },
  {
   "cell_type": "code",
   "execution_count": 17,
   "id": "40be66fe-8e74-4009-be52-35e39b9adba0",
   "metadata": {},
   "outputs": [
    {
     "data": {
      "text/plain": [
       "langchain_core.messages.ai.AIMessage"
      ]
     },
     "execution_count": 17,
     "metadata": {},
     "output_type": "execute_result"
    }
   ],
   "source": [
    "type(response)"
   ]
  },
  {
   "cell_type": "code",
   "execution_count": 16,
   "id": "a5f1063d-f86c-4700-88e8-1845184a2b81",
   "metadata": {},
   "outputs": [
    {
     "data": {
      "text/markdown": [
       "```markdown\n",
       "🚀 **Introducing DocumentGPT: Your AI-Powered Process Navigator!** 📄🤖\n",
       "\n",
       "Say goodbye to the days of sifting through endless documents and hello to seamless insights with DocumentGPT! Our cutting-edge SaaS platform is here to revolutionize the way your team interacts with company knowledge. \n",
       "\n",
       "✨ **Key Features:**\n",
       "- **Interactive Document Chat:** Get context-aware answers to your questions with just a few clicks! \n",
       "- **Customizable Document Integration:** Upload PDFs, Word files, and more for streamlined searches.\n",
       "- **AI-Powered Process Guidance:** Navigate workflows with step-by-step explanations and highlights of key information.\n",
       "- **Advanced Search & Summarization:** Find what you need in a snap and get concise summaries for quick overviews.\n",
       "- **Collaborative Features:** Share insights and collaborate to strengthen your team’s understanding of processes.\n",
       "- **Secure & Scalable:** Protect sensitive data while effortlessly scaling with your business needs.\n",
       "\n",
       "💡 **Why DocumentGPT?**\n",
       "- **Enhanced Efficiency:** Say goodbye to time wasted on searching and interpreting complex documents.\n",
       "- **Improved Understanding:** Simplify the learning curve for new employees and ensure compliance with internal processes.\n",
       "- **Cost Savings:** Reduce dependency on extensive training resources and minimize errors in workflows.\n",
       "- **Custom Insights:** Tailored insights specific to your organization’s unique processes.\n",
       "\n",
       "🔍 **Use Cases:**\n",
       "- **Employee Onboarding:** Instantly answer questions about policies and workflows for new hires.\n",
       "- **Compliance Audits:** Ensure clarity during audits with a comprehensive understanding of guidelines.\n",
       "- **Process Optimization:** Identify bottlenecks and misunderstandings in company procedures.\n",
       "\n",
       "Transform how your team works with DocumentGPT – the ultimate tool for making company processes accessible, understandable, and actionable! \n",
       "\n",
       "👉 Ready to empower your team to work smarter, not harder? Discover DocumentGPT today!\n",
       "```"
      ],
      "text/plain": [
       "<IPython.core.display.Markdown object>"
      ]
     },
     "metadata": {},
     "output_type": "display_data"
    }
   ],
   "source": [
    "display(Markdown(response.content))"
   ]
  },
  {
   "cell_type": "code",
   "execution_count": 20,
   "id": "24e75ee4-b49b-4066-9457-95d4b8a763ef",
   "metadata": {},
   "outputs": [
    {
     "data": {
      "text/markdown": [
       "## Few Shot Prompting\n"
      ],
      "text/plain": [
       "<IPython.core.display.Markdown object>"
      ]
     },
     "metadata": {},
     "output_type": "display_data"
    }
   ],
   "source": [
    "%%markdown\n",
    "## Few Shot Prompting"
   ]
  },
  {
   "cell_type": "code",
   "execution_count": 21,
   "id": "63660d7e-bfa8-4734-ad12-bdeeb5000009",
   "metadata": {},
   "outputs": [],
   "source": [
    "example_comments = [\n",
    "  {\n",
    "    \"comment\": \"Great ambiance and delicious food, will definitely come back!\",\n",
    "    \"sentiment\": \"Positive\"\n",
    "  },\n",
    "  {\n",
    "    \"comment\": \"The service was quick and friendly, but the food was a bit too salty.\",\n",
    "    \"sentiment\": \"Neutral\"\n",
    "  },\n",
    "  {\n",
    "    \"comment\": \"Cozy spot with amazing desserts, highly recommend the chocolate cake!\",\n",
    "    \"sentiment\": \"Positive\"\n",
    "  },\n",
    "  {\n",
    "    \"comment\": \"Food was bland and overpriced, not coming back.\",\n",
    "    \"sentiment\": \"Negative\"\n",
    "  },\n",
    "  {\n",
    "    \"comment\": \"The meal was fine, but nothing special—just average.\",\n",
    "    \"sentiment\": \"Neutral\"\n",
    "  }\n",
    "]"
   ]
  },
  {
   "cell_type": "code",
   "execution_count": 43,
   "id": "8f7407ec-3723-4092-b9e6-6fde11ffd4e4",
   "metadata": {},
   "outputs": [],
   "source": [
    "example_prompt = PromptTemplate(input_variables=[\"comment\", \"sentiment\"], \n",
    "                                template=\"\"\"comment: {comment},sentiment: {sentiment}\"\"\")"
   ]
  },
  {
   "cell_type": "code",
   "execution_count": 55,
   "id": "d0bd8c41-4c9b-4165-83d3-b10b0f8addbb",
   "metadata": {},
   "outputs": [],
   "source": [
    "prompt = FewShotPromptTemplate(\n",
    "    examples=example_comments,\n",
    "    example_prompt=example_prompt,\n",
    "    prefix=\"Comments and their associated sentiments\",\n",
    "    suffix=\"Comment: {comment}\",\n",
    "    input_variables=[\"comment\"],\n",
    "    example_separator=\"\\n\"\n",
    ").invoke({\"comment\": f\"Waited too long for a table, but the food was okay.\"})"
   ]
  },
  {
   "cell_type": "code",
   "execution_count": 64,
   "id": "09da8bbf-f2c2-4cc3-a8e3-f04eeee6ef4b",
   "metadata": {},
   "outputs": [],
   "source": [
    "response = openai.invoke(prompt.to_messages())"
   ]
  },
  {
   "cell_type": "code",
   "execution_count": 67,
   "id": "c24712ed-4191-4277-b270-e599f7e33003",
   "metadata": {},
   "outputs": [
    {
     "name": "stdout",
     "output_type": "stream",
     "text": [
      "sentiment: Neutral\n"
     ]
    }
   ],
   "source": [
    "print(response.content)"
   ]
  },
  {
   "cell_type": "code",
   "execution_count": null,
   "id": "601b607d-4f99-449f-8c64-67310977a562",
   "metadata": {},
   "outputs": [],
   "source": []
  }
 ],
 "metadata": {
  "kernelspec": {
   "display_name": "Python 3 (ipykernel)",
   "language": "python",
   "name": "python3"
  },
  "language_info": {
   "codemirror_mode": {
    "name": "ipython",
    "version": 3
   },
   "file_extension": ".py",
   "mimetype": "text/x-python",
   "name": "python",
   "nbconvert_exporter": "python",
   "pygments_lexer": "ipython3",
   "version": "3.11.3"
  }
 },
 "nbformat": 4,
 "nbformat_minor": 5
}
