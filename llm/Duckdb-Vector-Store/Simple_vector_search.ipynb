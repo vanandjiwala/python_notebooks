{
 "cells": [
  {
   "cell_type": "code",
   "execution_count": 1,
   "id": "51a340d2-91dd-452f-af6e-c52af92990a9",
   "metadata": {},
   "outputs": [],
   "source": [
    "import os\n",
    "import duckdb\n",
    "from openai import OpenAI\n",
    "import numpy as np\n",
    "from dotenv import load_dotenv"
   ]
  },
  {
   "cell_type": "code",
   "execution_count": 2,
   "id": "88dca7bd-85dc-4028-a030-d36ae693c541",
   "metadata": {},
   "outputs": [],
   "source": [
    "load_dotenv()\n",
    "embedding_deployment = \"text-embedding-3-small\""
   ]
  },
  {
   "cell_type": "code",
   "execution_count": 3,
   "id": "b7b1ea2d-e4f8-4974-8a3b-f727236f6564",
   "metadata": {},
   "outputs": [
    {
     "data": {
      "text/markdown": [
       "## Method to fetch OpenAI Embeddings\n"
      ],
      "text/plain": [
       "<IPython.core.display.Markdown object>"
      ]
     },
     "metadata": {},
     "output_type": "display_data"
    }
   ],
   "source": [
    "%%markdown\n",
    "## Method to fetch OpenAI Embeddings"
   ]
  },
  {
   "cell_type": "code",
   "execution_count": 4,
   "id": "97aca5e3-d3c3-4d83-926b-6b94c0b00d2a",
   "metadata": {},
   "outputs": [],
   "source": [
    "def fetch_embedding(text: str, model: str = embedding_deployment) -> list:\n",
    "    client = OpenAI()\n",
    "\n",
    "    response = client.embeddings.create(\n",
    "        input=text,\n",
    "        model=model\n",
    "    )\n",
    "    embedding = response.data[0].embedding\n",
    "    return embedding"
   ]
  },
  {
   "cell_type": "code",
   "execution_count": 5,
   "id": "835be913-8326-4dac-aca0-6eee1cfd104e",
   "metadata": {},
   "outputs": [],
   "source": [
    "conn = duckdb.connect(database=\"store.db\", read_only=False)"
   ]
  },
  {
   "cell_type": "code",
   "execution_count": 6,
   "id": "5ae65981-5a37-42e4-8d92-377cc658c3d8",
   "metadata": {},
   "outputs": [
    {
     "data": {
      "text/markdown": [
       "- By default, the length of the embedding vector will be 1536 for text-embedding-3-small\n",
       "\n",
       "## Create Table And Insert Data\n"
      ],
      "text/plain": [
       "<IPython.core.display.Markdown object>"
      ]
     },
     "metadata": {},
     "output_type": "display_data"
    }
   ],
   "source": [
    "%%markdown\n",
    "- By default, the length of the embedding vector will be 1536 for text-embedding-3-small\n",
    "\n",
    "## Create Table And Insert Data"
   ]
  },
  {
   "cell_type": "code",
   "execution_count": 7,
   "id": "2365ae4a-e853-4f14-bdeb-ae103747dd71",
   "metadata": {},
   "outputs": [
    {
     "data": {
      "text/plain": [
       "<duckdb.duckdb.DuckDBPyConnection at 0x100bec5b0>"
      ]
     },
     "execution_count": 7,
     "metadata": {},
     "output_type": "execute_result"
    }
   ],
   "source": [
    "conn.execute(\"\"\"\n",
    "        CREATE TABLE IF NOT EXISTS embedding_data (\n",
    "            dim_name   VARCHAR,\n",
    "            value      VARCHAR,\n",
    "            embeddings FLOAT4[1536]\n",
    "        );\n",
    "    \"\"\")"
   ]
  },
  {
   "cell_type": "code",
   "execution_count": 8,
   "id": "16e6ee5b-44a1-44d8-8504-e09ed2180244",
   "metadata": {},
   "outputs": [],
   "source": [
    "data = [\n",
    "        {\n",
    "            \"dim_name\": \"Fruit\",\n",
    "            \"value\": \"Apple\"\n",
    "        },\n",
    "        {\n",
    "            \"dim_name\": \"Fruit\",\n",
    "            \"value\": \"Banana\"\n",
    "        },\n",
    "        {\n",
    "            \"dim_name\": \"Sport\",\n",
    "            \"value\": \"Basketball\"\n",
    "        },\n",
    "        {\n",
    "            \"dim_name\": \"Place\",\n",
    "            \"value\": \"Eiffel Tower\"\n",
    "        },\n",
    "        {\n",
    "            \"dim_name\": \"Animal\",\n",
    "            \"value\": \"Penguin\"\n",
    "        }\n",
    "    ]"
   ]
  },
  {
   "cell_type": "code",
   "execution_count": 9,
   "id": "7d0a3250-897c-4f45-aa09-f47033b40c0f",
   "metadata": {},
   "outputs": [],
   "source": [
    "for item in data:\n",
    "    dim_name = item[\"dim_name\"]\n",
    "    value_text = item[\"value\"]\n",
    "\n",
    "    embedding = fetch_embedding(value_text)\n",
    "    conn.execute(\n",
    "        \"\"\"\n",
    "        INSERT INTO embedding_data (dim_name, value, embeddings)\n",
    "        VALUES (?, ?, ?)\n",
    "        \"\"\",\n",
    "        (dim_name, value_text, embedding)\n",
    "    )"
   ]
  },
  {
   "cell_type": "code",
   "execution_count": 10,
   "id": "ce95f680-5358-42eb-8a18-df15e2b5b84d",
   "metadata": {},
   "outputs": [
    {
     "data": {
      "text/markdown": [
       "## Similarity Search\n"
      ],
      "text/plain": [
       "<IPython.core.display.Markdown object>"
      ]
     },
     "metadata": {},
     "output_type": "display_data"
    }
   ],
   "source": [
    "%%markdown\n",
    "## Similarity Search"
   ]
  },
  {
   "cell_type": "code",
   "execution_count": 11,
   "id": "f0f4406a-ce73-4189-bdc0-6700b0e2ff94",
   "metadata": {},
   "outputs": [],
   "source": [
    "query_vector = fetch_embedding(\"fruits\")"
   ]
  },
  {
   "cell_type": "code",
   "execution_count": 12,
   "id": "3e3346f2-475e-42b7-9318-2bc86e827445",
   "metadata": {},
   "outputs": [],
   "source": [
    "results = conn.execute(\n",
    "        f\"\"\"\n",
    "        SELECT \n",
    "            dim_name,\n",
    "            value,\n",
    "            array_cosine_similarity(embeddings, {query_vector}::FLOAT4[1536]) as cosim\n",
    "        FROM embedding_data\n",
    "        ORDER BY cosim DESC\n",
    "        \"\"\"\n",
    "    ).fetchdf()"
   ]
  },
  {
   "cell_type": "code",
   "execution_count": 13,
   "id": "7f3ab643-9757-415b-be47-a4b1179a8b50",
   "metadata": {},
   "outputs": [
    {
     "data": {
      "text/html": [
       "<div>\n",
       "<style scoped>\n",
       "    .dataframe tbody tr th:only-of-type {\n",
       "        vertical-align: middle;\n",
       "    }\n",
       "\n",
       "    .dataframe tbody tr th {\n",
       "        vertical-align: top;\n",
       "    }\n",
       "\n",
       "    .dataframe thead th {\n",
       "        text-align: right;\n",
       "    }\n",
       "</style>\n",
       "<table border=\"1\" class=\"dataframe\">\n",
       "  <thead>\n",
       "    <tr style=\"text-align: right;\">\n",
       "      <th></th>\n",
       "      <th>dim_name</th>\n",
       "      <th>value</th>\n",
       "      <th>cosim</th>\n",
       "    </tr>\n",
       "  </thead>\n",
       "  <tbody>\n",
       "    <tr>\n",
       "      <th>0</th>\n",
       "      <td>Fruit</td>\n",
       "      <td>Banana</td>\n",
       "      <td>0.416309</td>\n",
       "    </tr>\n",
       "    <tr>\n",
       "      <th>1</th>\n",
       "      <td>Fruit</td>\n",
       "      <td>Apple</td>\n",
       "      <td>0.367630</td>\n",
       "    </tr>\n",
       "    <tr>\n",
       "      <th>2</th>\n",
       "      <td>Sport</td>\n",
       "      <td>Basketball</td>\n",
       "      <td>0.164279</td>\n",
       "    </tr>\n",
       "    <tr>\n",
       "      <th>3</th>\n",
       "      <td>Animal</td>\n",
       "      <td>Penguin</td>\n",
       "      <td>0.147255</td>\n",
       "    </tr>\n",
       "    <tr>\n",
       "      <th>4</th>\n",
       "      <td>Place</td>\n",
       "      <td>Eiffel Tower</td>\n",
       "      <td>0.117469</td>\n",
       "    </tr>\n",
       "  </tbody>\n",
       "</table>\n",
       "</div>"
      ],
      "text/plain": [
       "  dim_name         value     cosim\n",
       "0    Fruit        Banana  0.416309\n",
       "1    Fruit         Apple  0.367630\n",
       "2    Sport    Basketball  0.164279\n",
       "3   Animal       Penguin  0.147255\n",
       "4    Place  Eiffel Tower  0.117469"
      ]
     },
     "execution_count": 13,
     "metadata": {},
     "output_type": "execute_result"
    }
   ],
   "source": [
    "results"
   ]
  },
  {
   "cell_type": "code",
   "execution_count": 14,
   "id": "4a77c4c2-d414-45a3-9ddd-d18ecb34703f",
   "metadata": {},
   "outputs": [],
   "source": [
    "conn.close()"
   ]
  }
 ],
 "metadata": {
  "kernelspec": {
   "display_name": "Python 3 (ipykernel)",
   "language": "python",
   "name": "python3"
  },
  "language_info": {
   "codemirror_mode": {
    "name": "ipython",
    "version": 3
   },
   "file_extension": ".py",
   "mimetype": "text/x-python",
   "name": "python",
   "nbconvert_exporter": "python",
   "pygments_lexer": "ipython3",
   "version": "3.11.3"
  }
 },
 "nbformat": 4,
 "nbformat_minor": 5
}
