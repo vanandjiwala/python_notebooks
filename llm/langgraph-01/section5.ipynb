{
 "cells": [
  {
   "cell_type": "code",
   "execution_count": 1,
   "id": "b575aa78-4eae-463b-8110-7f7dec0ef463",
   "metadata": {},
   "outputs": [],
   "source": [
    "from typing import TypedDict, List\n",
    "from langgraph.graph import StateGraph, START, END\n",
    "from IPython.display import Image, display\n",
    "import random"
   ]
  },
  {
   "cell_type": "code",
   "execution_count": 2,
   "id": "1ba4221f-5b7f-46ee-91ea-605b204cadaa",
   "metadata": {},
   "outputs": [],
   "source": [
    "class AgentState(TypedDict):\n",
    "    name: str\n",
    "    target_number: int\n",
    "    guesses: List[int]\n",
    "    attempts: int\n",
    "    hint: str\n",
    "    lower_bound: int\n",
    "    upper_bound: int"
   ]
  },
  {
   "cell_type": "code",
   "execution_count": 3,
   "id": "aefc4587-0728-44c0-9b3b-ed467f74e48e",
   "metadata": {},
   "outputs": [],
   "source": [
    "def setup_node(state: AgentState) -> AgentState:\n",
    "    state[\"name\"] = f\"Welcome to the game, {state[\"name\"]}\"\n",
    "    state[\"target_number\"] = random.randint(1,20)\n",
    "    state[\"guesses\"] = []\n",
    "    state[\"attempts\"] = 0\n",
    "    state[\"hint\"] = \"\"\n",
    "    print(f\"Player has begun the game to guess {state[\"target_number\"]}\")\n",
    "    print(f\"Trying to match the number --> {state[\"target_number\"]}\")\n",
    "    return state"
   ]
  },
  {
   "cell_type": "code",
   "execution_count": 9,
   "id": "0d6bbe3d-0443-4bed-82d8-a3709fc3c5e9",
   "metadata": {},
   "outputs": [],
   "source": [
    "def guess(state: AgentState) -> AgentState:\n",
    "    \"\"\"Guess the number\"\"\"\n",
    "    if state[\"hint\"] == \"lower\":\n",
    "        state[\"lower_bound\"] = state[\"guesses\"][-1]\n",
    "    elif state[\"hint\"] == \"higher\":\n",
    "        state[\"upper_bound\"] = state[\"guesses\"][-1]\n",
    "    options = [i for i in range(state[\"lower_bound\"], state[\"upper_bound\"]+1) if i not in state[\"guesses\"]]\n",
    "    guess_number = random.choice(options)\n",
    "    state[\"guesses\"].append(guess_number)\n",
    "    state[\"attempts\"] += 1\n",
    "    print(f\"Guessed {guess_number} Between {state[\"lower_bound\"]} and {state[\"upper_bound\"]}\")\n",
    "    return state"
   ]
  },
  {
   "cell_type": "code",
   "execution_count": 10,
   "id": "f14c1e9b-30c3-44a5-bfd7-7447853c07c9",
   "metadata": {},
   "outputs": [],
   "source": [
    "def hint(state: AgentState) -> AgentState:\n",
    "    if (state[\"guesses\"][-1] > state[\"target_number\"]):\n",
    "        state[\"hint\"] = \"higher\"\n",
    "    elif (state[\"guesses\"][-1] < state[\"target_number\"]):\n",
    "        state[\"hint\"] = \"lower\"\n",
    "    return state\n",
    "\n",
    "def check_game_status(state: AgentState) -> AgentState:\n",
    "    if state[\"attempts\"] > 7:\n",
    "        print(\"Max attempts done\")\n",
    "        return \"exit\"\n",
    "    if state[\"guesses\"][-1] == state[\"target_number\"]:\n",
    "        print(\"Matched\")\n",
    "        return \"exit\"\n",
    "    if state[\"guesses\"][-1] != state[\"target_number\"]:\n",
    "        return \"loop\""
   ]
  },
  {
   "cell_type": "code",
   "execution_count": 11,
   "id": "9ea0e12d-28f5-46d2-a191-72e74d17d58f",
   "metadata": {},
   "outputs": [],
   "source": [
    "graph = StateGraph(AgentState)\n",
    "graph.add_node(\"setup\", setup_node)\n",
    "graph.add_node(\"guess\", guess)\n",
    "graph.add_node(\"hint\", hint)\n",
    "graph.add_edge(START, \"setup\")\n",
    "graph.add_edge(\"setup\", \"guess\")\n",
    "graph.add_edge(\"guess\", \"hint\")\n",
    "graph.add_conditional_edges(\"hint\", check_game_status, {\"exit\": END, \"loop\":\"guess\"})\n",
    "graph.add_edge(\"hint\", END)\n",
    "app = graph.compile()"
   ]
  },
  {
   "cell_type": "code",
   "execution_count": 12,
   "id": "38dc43d3-4bf2-4c63-90b0-4930193f28c0",
   "metadata": {},
   "outputs": [
    {
     "data": {
      "image/png": "[encoded data removed]",
      "text/plain": [
       "<IPython.core.display.Image object>"
      ]
     },
     "metadata": {},
     "output_type": "display_data"
    }
   ],
   "source": [
    "display(Image(app.get_graph().draw_mermaid_png()))"
   ]
  },
  {
   "cell_type": "code",
   "execution_count": 16,
   "id": "778dd2d3-021c-4118-8b84-d8bb38bcc5f0",
   "metadata": {},
   "outputs": [
    {
     "name": "stdout",
     "output_type": "stream",
     "text": [
      "Player has begun the game to guess 5\n",
      "Trying to match the number --> 5\n",
      "Guessed 14 Between 1 and 20\n",
      "Guessed 8 Between 1 and 14\n",
      "Guessed 2 Between 1 and 8\n",
      "Guessed 3 Between 2 and 8\n",
      "Guessed 7 Between 3 and 8\n",
      "Guessed 6 Between 3 and 7\n",
      "Guessed 4 Between 3 and 6\n",
      "Guessed 5 Between 4 and 6\n",
      "Max attempts done\n",
      "{'name': 'Welcome to the game, player', 'target_number': 5, 'guesses': [14, 8, 2, 3, 7, 6, 4, 5], 'attempts': 8, 'hint': 'lower', 'lower_bound': 4, 'upper_bound': 6}\n"
     ]
    }
   ],
   "source": [
    "result = app.invoke({\"name\": \"player\", \"lower_bound\": 1, \"upper_bound\": 20})\n",
    "print(result)"
   ]
  },
  {
   "cell_type": "code",
   "execution_count": null,
   "id": "35d4dd09-1b53-4f93-872e-85cf0e5dd4f1",
   "metadata": {},
   "outputs": [],
   "source": []
  },
  {
   "cell_type": "code",
   "execution_count": null,
   "id": "1db219a1-20fc-48d4-b762-37c750c552ee",
   "metadata": {},
   "outputs": [],
   "source": []
  }
 ],
 "metadata": {
  "kernelspec": {
   "display_name": "Python 3 (ipykernel)",
   "language": "python",
   "name": "python3"
  },
  "language_info": {
   "codemirror_mode": {
    "name": "ipython",
    "version": 3
   },
   "file_extension": ".py",
   "mimetype": "text/x-python",
   "name": "python",
   "nbconvert_exporter": "python",
   "pygments_lexer": "ipython3",
   "version": "3.13.5"
  }
 },
 "nbformat": 4,
 "nbformat_minor": 5
}
