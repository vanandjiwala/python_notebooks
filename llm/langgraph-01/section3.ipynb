{
 "cells": [
  {
   "cell_type": "code",
   "execution_count": 11,
   "id": "9d8b7804-0f85-4800-a4a7-745c56d4f8fc",
   "metadata": {},
   "outputs": [],
   "source": [
    "from typing import TypedDict, List\n",
    "from langgraph.graph import StateGraph\n",
    "from IPython.display import Image, display"
   ]
  },
  {
   "cell_type": "code",
   "execution_count": 5,
   "id": "24f75519-8880-40a0-a459-8dca94569891",
   "metadata": {},
   "outputs": [],
   "source": [
    "class AgentState(TypedDict):\n",
    "    name: str\n",
    "    age: int\n",
    "    skills: List[str]\n",
    "    result: str    "
   ]
  },
  {
   "cell_type": "code",
   "execution_count": 35,
   "id": "753dd0a9-e8f3-43fa-a2a6-3ff43e090171",
   "metadata": {},
   "outputs": [],
   "source": [
    "def greeting_node(state: AgentState) -> AgentState:\n",
    "    state[\"result\"] = f\"Hi {state[\"name\"]}! Hope you are doing well.\"\n",
    "    return state\n",
    "\n",
    "def age_desc_node(state: AgentState) -> AgentState:\n",
    "    state[\"result\"] += f\"You are {state[\"age\"]} years old.\"\n",
    "    return state\n",
    "\n",
    "def desc_skills(state: AgentState) -> AgentState:\n",
    "    skills = ','.join(state[\"skills\"])\n",
    "    state[\"result\"] += f\"You are equipped with these skills - \" + skills\n",
    "    return state"
   ]
  },
  {
   "cell_type": "code",
   "execution_count": 36,
   "id": "c87d92bb-31be-4864-8969-0ecb8a0757c8",
   "metadata": {},
   "outputs": [],
   "source": [
    "graph = StateGraph(AgentState)"
   ]
  },
  {
   "cell_type": "code",
   "execution_count": 37,
   "id": "4aef787b-e9e1-49b3-83ff-0fb6cd8439f8",
   "metadata": {},
   "outputs": [],
   "source": [
    "graph.add_node(\"greeting\", greeting_node)\n",
    "graph.add_node(\"age\", age_desc_node)\n",
    "graph.add_node(\"skills\", desc_skills)\n",
    "graph.set_entry_point(\"greeting\")\n",
    "graph.add_edge(\"greeting\", \"age\")\n",
    "graph.add_edge(\"age\", \"skills\")\n",
    "graph.set_finish_point(\"skills\")\n",
    "app = graph.compile()"
   ]
  },
  {
   "cell_type": "code",
   "execution_count": 38,
   "id": "0e4a2242-5607-4239-945b-063301c49ad1",
   "metadata": {},
   "outputs": [
    {
     "data": {
      "image/png": "[encoded data removed]",
      "text/plain": [
       "<IPython.core.display.Image object>"
      ]
     },
     "metadata": {},
     "output_type": "display_data"
    }
   ],
   "source": [
    "display(Image(app.get_graph().draw_mermaid_png()))"
   ]
  },
  {
   "cell_type": "code",
   "execution_count": 39,
   "id": "c2575706-ac13-4352-8e6d-b6c81cae08b6",
   "metadata": {},
   "outputs": [],
   "source": [
    "result = app.invoke({\"name\":\"John Doe\", \"age\": 39, \"skills\": [\"drawing\", \"painting\"]})"
   ]
  },
  {
   "cell_type": "code",
   "execution_count": 40,
   "id": "37a2d7ab-260d-49ba-a0ea-7ef43a0ff89d",
   "metadata": {},
   "outputs": [
    {
     "data": {
      "text/plain": [
       "{'name': 'John Doe',\n",
       " 'age': 39,\n",
       " 'skills': ['drawing', 'painting'],\n",
       " 'result': 'Hi John Doe! Hope you are doing well.You are 39 years old.You are equipped with these skills - drawing,painting'}"
      ]
     },
     "execution_count": 40,
     "metadata": {},
     "output_type": "execute_result"
    }
   ],
   "source": [
    "result"
   ]
  }
 ],
 "metadata": {
  "kernelspec": {
   "display_name": "Python 3 (ipykernel)",
   "language": "python",
   "name": "python3"
  },
  "language_info": {
   "codemirror_mode": {
    "name": "ipython",
    "version": 3
   },
   "file_extension": ".py",
   "mimetype": "text/x-python",
   "name": "python",
   "nbconvert_exporter": "python",
   "pygments_lexer": "ipython3",
   "version": "3.13.5"
  }
 },
 "nbformat": 4,
 "nbformat_minor": 5
}
