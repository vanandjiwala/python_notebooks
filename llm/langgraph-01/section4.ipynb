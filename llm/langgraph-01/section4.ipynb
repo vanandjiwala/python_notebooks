{
 "cells": [
  {
   "cell_type": "code",
   "execution_count": 1,
   "id": "c5dca4b8-d960-41d5-bf31-836ab0dee24a",
   "metadata": {},
   "outputs": [],
   "source": [
    "from typing import TypedDict\n",
    "from langgraph.graph import StateGraph, START, END\n",
    "from IPython.display import Image, display"
   ]
  },
  {
   "cell_type": "code",
   "execution_count": 2,
   "id": "911da78e-18ed-4ef6-afcf-48839d1a093c",
   "metadata": {},
   "outputs": [],
   "source": [
    "class AgentState(TypedDict):\n",
    "    n1: int\n",
    "    n2: int\n",
    "    operator1: str\n",
    "    r1: int\n",
    "    n3: int\n",
    "    n4: int\n",
    "    operator2: str\n",
    "    r2: int"
   ]
  },
  {
   "cell_type": "code",
   "execution_count": 3,
   "id": "f471d52a-dacc-4d1c-afda-0cb380b9668a",
   "metadata": {},
   "outputs": [],
   "source": [
    "def addition1(state: AgentState) -> AgentState:\n",
    "    \"\"\"Adding 2 numbers\"\"\"\n",
    "    state[\"r1\"] = state[\"n1\"] + state[\"n2\"]\n",
    "    return state\n",
    "\n",
    "def subtraction1(state: AgentState) -> AgentState:\n",
    "    \"\"\"Substracting 2 numbers\"\"\"\n",
    "    state[\"r1\"] = state[\"n1\"] - state[\"n2\"]\n",
    "    return state\n",
    "\n",
    "def addition2(state: AgentState) -> AgentState:\n",
    "    \"\"\"Adding 2 numbers\"\"\"\n",
    "    state[\"r2\"] = state[\"n3\"] + state[\"n4\"]\n",
    "    return state\n",
    "\n",
    "def subtraction2(state: AgentState) -> AgentState:\n",
    "    \"\"\"Substracting 2 numbers\"\"\"\n",
    "    state[\"r2\"] = state[\"n3\"] - state[\"n4\"]\n",
    "    return state\n",
    "\n",
    "def router1(state: AgentState) -> AgentState:\n",
    "    \"\"\"Router for selecting the next subsequent node\"\"\"\n",
    "    if state[\"operator1\"] == \"+\":\n",
    "        return \"addition_operation1\"\n",
    "    elif state[\"operator1\"] == \"-\":\n",
    "        return \"subtraction_operation1\"\n",
    "\n",
    "def router2(state: AgentState) -> AgentState:\n",
    "    \"\"\"Router for selecting the next subsequent node\"\"\"\n",
    "    if state[\"operator2\"] == \"+\":\n",
    "        return \"addition_operation2\"\n",
    "    elif state[\"operator2\"] == \"-\":\n",
    "        return \"subtraction_operation2\""
   ]
  },
  {
   "cell_type": "code",
   "execution_count": 4,
   "id": "9843e449-5576-4a88-838a-2649c2f0b040",
   "metadata": {},
   "outputs": [],
   "source": [
    "graph = StateGraph(AgentState)"
   ]
  },
  {
   "cell_type": "code",
   "execution_count": 5,
   "id": "7768d716-e9ce-49a3-bb70-f5a39528e28c",
   "metadata": {},
   "outputs": [
    {
     "data": {
      "text/plain": [
       "<langgraph.graph.state.StateGraph at 0x108668d70>"
      ]
     },
     "execution_count": 5,
     "metadata": {},
     "output_type": "execute_result"
    }
   ],
   "source": [
    "graph.add_node(\"add1\", addition1)\n",
    "graph.add_node(\"sub1\", subtraction1)\n",
    "graph.add_node(\"add2\", addition2)\n",
    "graph.add_node(\"sub2\", subtraction2)\n",
    "graph.add_node(\"router1\", lambda state: state)\n",
    "graph.add_node(\"router2\", lambda state: state)"
   ]
  },
  {
   "cell_type": "code",
   "execution_count": 6,
   "id": "49766b83-8041-4f1d-90e6-c7c6bce48231",
   "metadata": {},
   "outputs": [],
   "source": [
    "graph.add_edge(START, \"router1\")\n",
    "graph.add_conditional_edges(\"router1\", router1, {\"addition_operation1\": \"add1\", \"subtraction_operation1\": \"sub1\"})\n",
    "graph.add_edge(\"add1\", \"router2\")\n",
    "graph.add_edge(\"sub1\", \"router2\")\n",
    "graph.add_conditional_edges(\"router2\", router2, {\"addition_operation2\": \"add2\", \"subtraction_operation2\": \"sub2\"})\n",
    "graph.add_edge(\"add2\", END)\n",
    "graph.add_edge(\"sub2\", END)\n",
    "app = graph.compile()"
   ]
  },
  {
   "cell_type": "code",
   "execution_count": 7,
   "id": "c3c4e0d5-b1c1-497b-90da-0cc03dbfa6bd",
   "metadata": {},
   "outputs": [
    {
     "data": {
      "image/png": "[encoded data removed]",
      "text/plain": [
       "<IPython.core.display.Image object>"
      ]
     },
     "metadata": {},
     "output_type": "display_data"
    }
   ],
   "source": [
    "display(Image(app.get_graph().draw_mermaid_png()))"
   ]
  },
  {
   "cell_type": "code",
   "execution_count": 8,
   "id": "5d0b2348-593c-4a52-b5be-5e72b3bfac1c",
   "metadata": {},
   "outputs": [],
   "source": [
    "result = app.invoke({\"n1\": 10, \"n2\": 5, \"operator1\": \"+\", \"n3\": 10, \"n4\": 5, \"operator2\": \"-\"})"
   ]
  },
  {
   "cell_type": "code",
   "execution_count": 9,
   "id": "6627138b-2dc2-4d7a-a9fc-69846438ddc0",
   "metadata": {},
   "outputs": [
    {
     "data": {
      "text/plain": [
       "{'n1': 10,\n",
       " 'n2': 5,\n",
       " 'operator1': '+',\n",
       " 'r1': 15,\n",
       " 'n3': 10,\n",
       " 'n4': 5,\n",
       " 'operator2': '-',\n",
       " 'r2': 5}"
      ]
     },
     "execution_count": 9,
     "metadata": {},
     "output_type": "execute_result"
    }
   ],
   "source": [
    "result"
   ]
  },
  {
   "cell_type": "code",
   "execution_count": null,
   "id": "cd4e37dd-0e78-4b55-a094-9257af36ac0d",
   "metadata": {},
   "outputs": [],
   "source": []
  }
 ],
 "metadata": {
  "kernelspec": {
   "display_name": "Python 3 (ipykernel)",
   "language": "python",
   "name": "python3"
  },
  "language_info": {
   "codemirror_mode": {
    "name": "ipython",
    "version": 3
   },
   "file_extension": ".py",
   "mimetype": "text/x-python",
   "name": "python",
   "nbconvert_exporter": "python",
   "pygments_lexer": "ipython3",
   "version": "3.13.5"
  }
 },
 "nbformat": 4,
 "nbformat_minor": 5
}
