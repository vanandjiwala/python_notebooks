{
 "cells": [
  {
   "cell_type": "code",
   "execution_count": 9,
   "id": "1c18621e-b63c-4137-ac1c-aaa2ce379867",
   "metadata": {},
   "outputs": [],
   "source": [
    "from typing import Dict, TypedDict\n",
    "from langgraph.graph import StateGraph\n",
    "from IPython.display import Image, display"
   ]
  },
  {
   "cell_type": "code",
   "execution_count": 2,
   "id": "4e397d01-16b6-48ae-816f-4ac86c71a514",
   "metadata": {},
   "outputs": [],
   "source": [
    "class AgentState(TypedDict):\n",
    "    name: str"
   ]
  },
  {
   "cell_type": "code",
   "execution_count": 20,
   "id": "7273fc03-b2f2-4543-9f13-1ee721625b40",
   "metadata": {},
   "outputs": [],
   "source": [
    "def appreciate_node(state: AgentState) -> AgentState:\n",
    "    \"\"\"Simple Node that appreciates the state.\"\"\"\n",
    "    state[\"name\"] += \", you are doing great by learning langgraph.\"\n",
    "    return state"
   ]
  },
  {
   "cell_type": "code",
   "execution_count": 21,
   "id": "78b50498-b8df-4929-b5ae-a9f66c4b5aa1",
   "metadata": {},
   "outputs": [
    {
     "data": {
      "text/plain": [
       "<langgraph.graph.state.StateGraph at 0x1141a1810>"
      ]
     },
     "execution_count": 21,
     "metadata": {},
     "output_type": "execute_result"
    }
   ],
   "source": [
    "graph = StateGraph(AgentState)\n",
    "graph.add_node(\"appreciate_node\", appreciate_node)\n",
    "graph.set_entry_point(\"appreciate_node\")\n",
    "graph.set_finish_point(\"appreciate_node\")"
   ]
  },
  {
   "cell_type": "code",
   "execution_count": 22,
   "id": "c68f4a3b-b867-4700-a6ad-196dd69b0e40",
   "metadata": {},
   "outputs": [],
   "source": [
    "app = graph.compile()"
   ]
  },
  {
   "cell_type": "code",
   "execution_count": 23,
   "id": "30b15532-134f-470d-a873-59b80a5588b1",
   "metadata": {},
   "outputs": [
    {
     "data": {
      "image/png": "[encoded data removed]",
      "text/plain": [
       "<IPython.core.display.Image object>"
      ]
     },
     "metadata": {},
     "output_type": "display_data"
    }
   ],
   "source": [
    "display(Image(app.get_graph().draw_mermaid_png()))"
   ]
  },
  {
   "cell_type": "code",
   "execution_count": 24,
   "id": "c4102d50-17c4-43a4-9de6-b94cba799e67",
   "metadata": {},
   "outputs": [],
   "source": [
    "result = app.invoke({\"name\":\"Jordan\"})"
   ]
  },
  {
   "cell_type": "code",
   "execution_count": 25,
   "id": "e78ab3b2-7846-45f8-b365-1f7e0881b00b",
   "metadata": {},
   "outputs": [
    {
     "data": {
      "text/plain": [
       "'Jordan, you are doing great by learning langgraph.'"
      ]
     },
     "execution_count": 25,
     "metadata": {},
     "output_type": "execute_result"
    }
   ],
   "source": [
    "result[\"name\"]"
   ]
  },
  {
   "cell_type": "code",
   "execution_count": null,
   "id": "57cbd6c9-fd28-420b-bbfd-5325db35d6e5",
   "metadata": {},
   "outputs": [],
   "source": []
  }
 ],
 "metadata": {
  "kernelspec": {
   "display_name": "Python 3 (ipykernel)",
   "language": "python",
   "name": "python3"
  },
  "language_info": {
   "codemirror_mode": {
    "name": "ipython",
    "version": 3
   },
   "file_extension": ".py",
   "mimetype": "text/x-python",
   "name": "python",
   "nbconvert_exporter": "python",
   "pygments_lexer": "ipython3",
   "version": "3.13.5"
  }
 },
 "nbformat": 4,
 "nbformat_minor": 5
}
