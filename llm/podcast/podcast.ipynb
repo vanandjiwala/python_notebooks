{
 "cells": [
  {
   "cell_type": "code",
   "execution_count": 1,
   "id": "8400111b-56c4-48cb-b774-380024ec9959",
   "metadata": {},
   "outputs": [
    {
     "name": "stderr",
     "output_type": "stream",
     "text": [
      "/Users/vasav/Documents/Vasav/REPO/python_notebooks/llm/podcast/.venv/lib/python3.11/site-packages/tqdm/auto.py:21: TqdmWarning: IProgress not found. Please update jupyter and ipywidgets. See https://ipywidgets.readthedocs.io/en/stable/user_install.html\n",
      "  from .autonotebook import tqdm as notebook_tqdm\n"
     ]
    }
   ],
   "source": [
    "from podcastfy.client import generate_podcast"
   ]
  },
  {
   "cell_type": "code",
   "execution_count": 2,
   "id": "aa547b90-b6ab-4afa-b368-5408cd0349ab",
   "metadata": {},
   "outputs": [],
   "source": [
    "custom_config = {\n",
    "    \"word_count\": 1000,\n",
    "    \"conversation_style\": [\"casual\", \"humorous\"],\n",
    "    \"podcast_name\": \"AI Alchemy\",\n",
    "    \"creativity\": 0.7\n",
    "}"
   ]
  },
  {
   "cell_type": "code",
   "execution_count": 5,
   "id": "33c65117-a37a-4174-9eab-d7c4eea2eeca",
   "metadata": {},
   "outputs": [
    {
     "name": "stderr",
     "output_type": "stream",
     "text": [
      "2025-01-15 15:04:59,028 - podcastfy.client - INFO - Processing 1 links\n"
     ]
    },
    {
     "name": "stdout",
     "output_type": "stream",
     "text": [
      "Generating podcast...\n"
     ]
    },
    {
     "name": "stderr",
     "output_type": "stream",
     "text": [
      "/Users/vasav/Documents/Vasav/REPO/python_notebooks/llm/podcast/.venv/lib/python3.11/site-packages/langsmith/client.py:256: LangSmithMissingAPIKeyWarning: API key must be provided when using hosted LangSmith API\n",
      "  warnings.warn(\n"
     ]
    },
    {
     "name": "stdout",
     "output_type": "stream",
     "text": [
      "Transcript saved to ./data/transcripts/transcript_1b181a0c242c462d9ac2f6a1667f6f7e.txt\n"
     ]
    },
    {
     "name": "stderr",
     "output_type": "stream",
     "text": [
      "2025-01-15 15:07:02,119 - podcastfy.client - INFO - Podcast generated successfully using openai TTS model\n"
     ]
    }
   ],
   "source": [
    "response = generate_podcast(tts_model=\"openai\", \n",
    "                            llm_model_name=\"gpt-4o-mini\", \n",
    "                            api_key_label=\"OPENAI_API_KEY\",\n",
    "                            conversation_config=custom_config,\n",
    "                            urls=[\"https://github.com/vanandjiwala/vasav_blog/blob/master/content/blog/dimension_modeling_basics.md\"]\n",
    "                           )"
   ]
  },
  {
   "cell_type": "code",
   "execution_count": 6,
   "id": "12a4f3e3-8f7a-4950-ae28-2cdabdf1af89",
   "metadata": {},
   "outputs": [
    {
     "data": {
      "text/plain": [
       "'./data/audio/podcast_53626128855c415cb3666d242f064de1.mp3'"
      ]
     },
     "execution_count": 6,
     "metadata": {},
     "output_type": "execute_result"
    }
   ],
   "source": [
    "response"
   ]
  },
  {
   "cell_type": "code",
   "execution_count": null,
   "id": "ff7b5c25-a688-4d6f-8732-cfa1bd7b0662",
   "metadata": {},
   "outputs": [],
   "source": []
  },
  {
   "cell_type": "code",
   "execution_count": null,
   "id": "29768f80-db84-499a-a9fd-5010a0e88d13",
   "metadata": {},
   "outputs": [],
   "source": []
  }
 ],
 "metadata": {
  "kernelspec": {
   "display_name": "Python 3 (ipykernel)",
   "language": "python",
   "name": "python3"
  },
  "language_info": {
   "codemirror_mode": {
    "name": "ipython",
    "version": 3
   },
   "file_extension": ".py",
   "mimetype": "text/x-python",
   "name": "python",
   "nbconvert_exporter": "python",
   "pygments_lexer": "ipython3",
   "version": "3.11.3"
  }
 },
 "nbformat": 4,
 "nbformat_minor": 5
}
