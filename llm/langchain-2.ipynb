{
 "cells": [
  {
   "cell_type": "code",
   "execution_count": 29,
   "id": "7398b554-46d9-4b1e-b3ef-20c5c717103b",
   "metadata": {},
   "outputs": [
    {
     "data": {
      "text/markdown": [
       "Resouce: `https://learn.deeplearning.ai/langchain/lesson/2/models,-prompts-and-parsers`\n"
      ],
      "text/plain": [
       "<IPython.core.display.Markdown object>"
      ]
     },
     "metadata": {},
     "output_type": "display_data"
    }
   ],
   "source": [
    "%%markdown\n",
    "Resouce: `https://learn.deeplearning.ai/langchain/lesson/2/models,-prompts-and-parsers`"
   ]
  },
  {
   "cell_type": "code",
   "execution_count": 12,
   "id": "5eda83dd-3d8f-43e7-b0d0-45a3501fb670",
   "metadata": {},
   "outputs": [
    {
     "data": {
      "text/markdown": [
       "## Helpers\n"
      ],
      "text/plain": [
       "<IPython.core.display.Markdown object>"
      ]
     },
     "metadata": {},
     "output_type": "display_data"
    }
   ],
   "source": [
    "%%markdown\n",
    "## Helpers"
   ]
  },
  {
   "cell_type": "code",
   "execution_count": 1,
   "id": "5f8461fe-57ce-4f49-b12a-074c791bb636",
   "metadata": {},
   "outputs": [],
   "source": [
    "import os\n",
    "import openai\n",
    "\n",
    "from dotenv import load_dotenv, find_dotenv\n",
    "_ = load_dotenv(find_dotenv()) # read local .env file\n",
    "openai.api_key = os.environ['OPENAI_API_KEY']"
   ]
  },
  {
   "cell_type": "code",
   "execution_count": 2,
   "id": "d9eafc0c-4686-48bc-bdda-ea90fb1aae97",
   "metadata": {},
   "outputs": [],
   "source": [
    "def get_completion(prompt, model=\"gpt-3.5-turbo\"):\n",
    "    messages = [{\"role\": \"user\", \"content\": prompt}]\n",
    "    response = openai.ChatCompletion.create(\n",
    "        model=model,\n",
    "        messages=messages,\n",
    "        temperature=0, \n",
    "    )\n",
    "    return response.choices[0].message[\"content\"]"
   ]
  },
  {
   "cell_type": "code",
   "execution_count": 44,
   "id": "44ac906b-fca7-436c-bbee-e6c62972f8c2",
   "metadata": {},
   "outputs": [
    {
     "data": {
      "text/markdown": [
       "## Prompt Templete\n"
      ],
      "text/plain": [
       "<IPython.core.display.Markdown object>"
      ]
     },
     "metadata": {},
     "output_type": "display_data"
    }
   ],
   "source": [
    "%%markdown\n",
    "## Prompt Templete"
   ]
  },
  {
   "cell_type": "code",
   "execution_count": 25,
   "id": "512f86a0-90fe-4a49-a262-251458d3a745",
   "metadata": {},
   "outputs": [],
   "source": [
    "from langchain.chat_models import ChatOpenAI\n",
    "from langchain import PromptTemplate"
   ]
  },
  {
   "cell_type": "code",
   "execution_count": 10,
   "id": "4cd06f6b-e44c-43d7-9361-98077423855c",
   "metadata": {},
   "outputs": [
    {
     "data": {
      "text/plain": [
       "ChatOpenAI(verbose=False, callback_manager=<langchain.callbacks.shared.SharedCallbackManager object at 0x11c946a10>, client=<class 'openai.api_resources.chat_completion.ChatCompletion'>, model_name='gpt-3.5-turbo', temperature=0.0, model_kwargs={}, openai_api_key=None, openai_organization=None, request_timeout=60, max_retries=6, streaming=False, n=1, max_tokens=None)"
      ]
     },
     "execution_count": 10,
     "metadata": {},
     "output_type": "execute_result"
    }
   ],
   "source": [
    "chat = ChatOpenAI(temperature=0)\n",
    "chat"
   ]
  },
  {
   "cell_type": "code",
   "execution_count": 33,
   "id": "86a0ef34-529c-45d1-aa7f-1f8075412d04",
   "metadata": {},
   "outputs": [],
   "source": [
    "template_string = \"\"\"\n",
    "Compose an email to provide information on the services that I am offering as a consultant. I’m the {work_position} from {company} specializing in {service}. Write a persuasive email to {sender_name} from {sender_company} who expressed interest in our services. Highlight the services we offer which are listed below.\n",
    "1.Data Pipeline Development\n",
    "2.Database Design and Optimization\n",
    "3.Machine Learning Model Development\n",
    "4.Data Governance and Compliance\n",
    "5.Cloud Data Solutions\n",
    "6.Data Visualization and Reporting\n",
    "\n",
    "Keep it under 5 bullter points.\n",
    "\"\"\""
   ]
  },
  {
   "cell_type": "code",
   "execution_count": 34,
   "id": "177214e7-c461-421d-8171-bfd7d9ee929d",
   "metadata": {},
   "outputs": [],
   "source": [
    "prompt_template = PromptTemplate.from_template(template_string)"
   ]
  },
  {
   "cell_type": "code",
   "execution_count": 35,
   "id": "b1fee55a-a0ca-4a4f-920d-0428767eb4d1",
   "metadata": {},
   "outputs": [
    {
     "data": {
      "text/plain": [
       "['company', 'sender_company', 'sender_name', 'service', 'work_position']"
      ]
     },
     "execution_count": 35,
     "metadata": {},
     "output_type": "execute_result"
    }
   ],
   "source": [
    "prompt_template.input_variables"
   ]
  },
  {
   "cell_type": "code",
   "execution_count": 38,
   "id": "82c990bf-fe4d-41c5-beb2-e392da8f51f4",
   "metadata": {},
   "outputs": [],
   "source": [
    "my_prompt = prompt_template.format(company=\"titan Data Ltd\", sender_company=\"tata\", sender_name=\"sam\", service=\"data engineering\", work_position=\"Data Consultant\")"
   ]
  },
  {
   "cell_type": "code",
   "execution_count": 41,
   "id": "f42dfcda-2261-4db6-90e0-a4a43ce3d77e",
   "metadata": {},
   "outputs": [],
   "source": [
    "response = get_completion(my_prompt)"
   ]
  },
  {
   "cell_type": "code",
   "execution_count": 42,
   "id": "0e198214-4e2a-488c-ae91-3870329605fb",
   "metadata": {},
   "outputs": [
    {
     "name": "stdout",
     "output_type": "stream",
     "text": [
      "Dear Sam,\n",
      "\n",
      "I hope this email finds you well. I wanted to reach out and provide you with more information about the services that Titan Data Ltd, as a leading data engineering consultancy, can offer to Tata.\n",
      "\n",
      "1. Data Pipeline Development: Our team of experts excels in designing and implementing efficient data pipelines, ensuring seamless data flow and integration across your organization.\n",
      "\n",
      "2. Database Design and Optimization: We specialize in creating robust and scalable databases tailored to your specific needs, optimizing performance and enhancing data accessibility.\n",
      "\n",
      "3. Machine Learning Model Development: Leveraging our expertise in machine learning, we can assist you in developing advanced models that extract valuable insights from your data, enabling data-driven decision-making.\n",
      "\n",
      "4. Data Governance and Compliance: We understand the importance of data governance and compliance in today's regulatory landscape. Our consultants can help you establish robust data governance frameworks and ensure compliance with relevant regulations.\n",
      "\n",
      "5. Cloud Data Solutions: With our extensive experience in cloud technologies, we can assist you in migrating your data to the cloud, optimizing storage and processing capabilities, and leveraging the scalability and flexibility of cloud platforms.\n",
      "\n",
      "6. Data Visualization and Reporting: Our team excels in transforming complex data into visually appealing and actionable insights. We can help you create interactive dashboards and reports that facilitate data-driven decision-making across your organization.\n",
      "\n",
      "I believe that these services align perfectly with your expressed interest in our expertise. We have a proven track record of delivering successful data engineering solutions to clients across various industries.\n",
      "\n",
      "I would be delighted to schedule a call or meeting to discuss your specific requirements in more detail and explore how Titan Data Ltd can add value to Tata. Please let me know a convenient time for you, and I will be happy to accommodate.\n",
      "\n",
      "Thank you for considering Titan Data Ltd as your data engineering partner. I look forward to the opportunity to work with you.\n",
      "\n",
      "Best regards,\n",
      "\n",
      "[Your Name]\n",
      "Data Consultant\n",
      "Titan Data Ltd\n"
     ]
    }
   ],
   "source": [
    "print(response)"
   ]
  },
  {
   "cell_type": "code",
   "execution_count": 43,
   "id": "313865c8-0d72-4d68-ac0d-7a4b335baa62",
   "metadata": {},
   "outputs": [
    {
     "data": {
      "text/markdown": [
       "## Chat prompt template\n"
      ],
      "text/plain": [
       "<IPython.core.display.Markdown object>"
      ]
     },
     "metadata": {},
     "output_type": "display_data"
    }
   ],
   "source": [
    "%%markdown\n",
    "## Chat prompt template"
   ]
  },
  {
   "cell_type": "code",
   "execution_count": null,
   "id": "523495c5-2f0c-4200-aac4-b68b29e51584",
   "metadata": {},
   "outputs": [],
   "source": []
  }
 ],
 "metadata": {
  "kernelspec": {
   "display_name": "Python 3 (ipykernel)",
   "language": "python",
   "name": "python3"
  },
  "language_info": {
   "codemirror_mode": {
    "name": "ipython",
    "version": 3
   },
   "file_extension": ".py",
   "mimetype": "text/x-python",
   "name": "python",
   "nbconvert_exporter": "python",
   "pygments_lexer": "ipython3",
   "version": "3.10.11"
  }
 },
 "nbformat": 4,
 "nbformat_minor": 5
}
