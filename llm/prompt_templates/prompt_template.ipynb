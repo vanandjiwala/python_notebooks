{
 "cells": [
  {
   "cell_type": "code",
   "execution_count": 71,
   "id": "f4a54dd6-d6b7-4151-9915-712b7b0de3a2",
   "metadata": {},
   "outputs": [],
   "source": [
    "from langchain_core.prompts import PromptTemplate, MessagesPlaceholder, ChatPromptTemplate, FewShotPromptTemplate\n",
    "from dotenv import load_dotenv\n",
    "from langchain_openai import ChatOpenAI"
   ]
  },
  {
   "cell_type": "code",
   "execution_count": 20,
   "id": "a4f863e4-f7f5-48c8-9761-af88d9ec08b3",
   "metadata": {},
   "outputs": [
    {
     "data": {
      "text/plain": [
       "True"
      ]
     },
     "execution_count": 20,
     "metadata": {},
     "output_type": "execute_result"
    }
   ],
   "source": [
    "MODEL = \"gpt-4o-mini\"\n",
    "load_dotenv()"
   ]
  },
  {
   "cell_type": "code",
   "execution_count": 21,
   "id": "d4ffa8b7-80f2-4d40-9977-dd1de81d8258",
   "metadata": {},
   "outputs": [],
   "source": [
    "openai = ChatOpenAI(model=MODEL)"
   ]
  },
  {
   "cell_type": "code",
   "execution_count": 49,
   "id": "12efad32-94fe-423a-9d33-5ec0df974266",
   "metadata": {},
   "outputs": [
    {
     "data": {
      "text/markdown": [
       "## Simple Use case\n",
       "\n",
       "### References\n",
       "1. https://www.jasper.ai/prompts/going-viral-on-twitter\n",
       "2. https://techcrunch.com/2024/12/20/openai-announces-new-o3-model/\n",
       "3. https://python.langchain.com/docs/concepts/prompt_templates/#messagesplaceholder\n"
      ],
      "text/plain": [
       "<IPython.core.display.Markdown object>"
      ]
     },
     "metadata": {},
     "output_type": "display_data"
    }
   ],
   "source": [
    "%%markdown\n",
    "## Simple Use case\n",
    "\n",
    "### References\n",
    "1. https://www.jasper.ai/prompts/going-viral-on-twitter\n",
    "2. https://techcrunch.com/2024/12/20/openai-announces-new-o3-model/\n",
    "3. https://python.langchain.com/docs/concepts/prompt_templates/#messagesplaceholder"
   ]
  },
  {
   "cell_type": "code",
   "execution_count": 9,
   "id": "c18b110b-8f1e-4a34-95f6-ad2b5cc314f1",
   "metadata": {},
   "outputs": [],
   "source": [
    "prompt_template = PromptTemplate.from_template(\"I want to create a tweet that will increase my Twitter followers. Can you help me write a tweet that includes a giveaway or a contest related to {topic}?\")"
   ]
  },
  {
   "cell_type": "code",
   "execution_count": 11,
   "id": "877b3c9f-d0ae-4499-acba-53bc84219241",
   "metadata": {},
   "outputs": [],
   "source": [
    "sample_topic = f\"\"\"\n",
    "On Friday, the company unveiled o3, the successor to the o1 “reasoning” model it released earlier in the year. o3 is a model family, to be more precise — as was the case with o1. There’s o3 and o3-mini, a smaller, distilled model fine-tuned for particular tasks.\n",
    "OpenAI makes the remarkable claim that o3, at least in certain conditions, approaches AGI — with significant caveats.\n",
    "\"\"\""
   ]
  },
  {
   "cell_type": "code",
   "execution_count": 22,
   "id": "60bcd318-f565-4054-815f-5789c5ff1456",
   "metadata": {},
   "outputs": [],
   "source": [
    "prompt = prompt_template.invoke({\"topic\": sample_topic})"
   ]
  },
  {
   "cell_type": "code",
   "execution_count": 24,
   "id": "c0d32d59-d734-471a-abf9-307ef0713fcc",
   "metadata": {},
   "outputs": [],
   "source": [
    "response = openai.invoke(prompt.to_messages())"
   ]
  },
  {
   "cell_type": "code",
   "execution_count": 27,
   "id": "4adbbc32-2567-4081-9983-42e639e15e1e",
   "metadata": {},
   "outputs": [
    {
     "name": "stdout",
     "output_type": "stream",
     "text": [
      "Sure! Here's a tweet idea that incorporates a giveaway related to the o3 model announcement to help you gain followers:\n",
      "\n",
      "---\n",
      "\n",
      "🚀 Exciting news in AI! OpenAI just unveiled the o3 model family, claiming it approaches AGI! To celebrate, I'm hosting a GIVEAWAY! 🎉\n",
      "\n",
      "🎁 Win exclusive access to an o3 demo + a $50 gift card!\n",
      "\n",
      "To enter:\n",
      "1️⃣ Follow me\n",
      "2️⃣ Retweet this\n",
      "3️⃣ Tag 2 friends interested in AI!\n",
      "\n",
      "Contest ends [insert date]. Good luck! 🍀 #OpenAI #o3 #AIgiveaway\n",
      "\n",
      "---\n",
      "\n",
      "Feel free to adjust the date and any other details to fit your style and audience!\n"
     ]
    }
   ],
   "source": [
    "print(response.content)"
   ]
  },
  {
   "cell_type": "code",
   "execution_count": 28,
   "id": "5650a5a3-2119-4d04-82b8-01972aac7d62",
   "metadata": {},
   "outputs": [
    {
     "data": {
      "text/markdown": [
       "There are primarily 3 types of role when we deal with chat application:\n",
       "1. System role - This will give you control on the model behavior.\n",
       "2. User role - This is the actual user prompt/query\n",
       "3. Assistant role - This is the response provided by the LLM.\n",
       "\n",
       "Here is a simple chatgpt api body based on the official documentation to make it clearer:\n",
       "```\n",
       "const response = await openai.chat.completions.create({\n",
       "  model: \"gpt-4o\",\n",
       "  messages: [\n",
       "    {\n",
       "      \"role\": \"user\",\n",
       "      \"content\": [{ \"type\": \"text\", \"text\": \"knock knock.\" }]\n",
       "    },\n",
       "    {\n",
       "      \"role\": \"assistant\",\n",
       "      \"content\": [{ \"type\": \"text\", \"text\": \"Who's there?\" }]\n",
       "    },\n",
       "    {\n",
       "      \"role\": \"user\",\n",
       "      \"content\": [{ \"type\": \"text\", \"text\": \"Orange.\" }]\n",
       "    }\n",
       "  ]\n",
       "});\n",
       "```\n"
      ],
      "text/plain": [
       "<IPython.core.display.Markdown object>"
      ]
     },
     "metadata": {},
     "output_type": "display_data"
    }
   ],
   "source": [
    "%%markdown\n",
    "There are primarily 3 types of role when we deal with chat application:\n",
    "1. System role - This will give you control on the model behavior.\n",
    "2. User role - This is the actual user prompt/query\n",
    "3. Assistant role - This is the response provided by the LLM.\n",
    "\n",
    "Here is a simple chatgpt api body based on the official documentation to make it clearer:\n",
    "```\n",
    "const response = await openai.chat.completions.create({\n",
    "  model: \"gpt-4o\",\n",
    "  messages: [\n",
    "    {\n",
    "      \"role\": \"user\",\n",
    "      \"content\": [{ \"type\": \"text\", \"text\": \"knock knock.\" }]\n",
    "    },\n",
    "    {\n",
    "      \"role\": \"assistant\",\n",
    "      \"content\": [{ \"type\": \"text\", \"text\": \"Who's there?\" }]\n",
    "    },\n",
    "    {\n",
    "      \"role\": \"user\",\n",
    "      \"content\": [{ \"type\": \"text\", \"text\": \"Orange.\" }]\n",
    "    }\n",
    "  ]\n",
    "});\n",
    "```"
   ]
  },
  {
   "cell_type": "code",
   "execution_count": 46,
   "id": "8772c959-26e1-4dc1-b473-11fb72ac0b01",
   "metadata": {},
   "outputs": [
    {
     "data": {
      "text/markdown": [
       "## Using MessagesPlaceholder\n",
       "In the above simple example, we will include a system message. We are going to use `MessagesPlaceholder` which will help us put the list of messages. \n"
      ],
      "text/plain": [
       "<IPython.core.display.Markdown object>"
      ]
     },
     "metadata": {},
     "output_type": "display_data"
    }
   ],
   "source": [
    "%%markdown\n",
    "## Using MessagesPlaceholder\n",
    "In the above simple example, we will include a system message. We are going to use `MessagesPlaceholder` which will help us put the list of messages. "
   ]
  },
  {
   "cell_type": "code",
   "execution_count": 42,
   "id": "48064972-23be-42be-905f-51e41643a702",
   "metadata": {},
   "outputs": [],
   "source": [
    "prompt_template1 = ChatPromptTemplate([\n",
    "    (\"system\", \"You are a social media influencer.\"),\n",
    "    MessagesPlaceholder(\"msgs\")\n",
    "])"
   ]
  },
  {
   "cell_type": "code",
   "execution_count": 43,
   "id": "a3dfe1f4-26c5-41df-bc73-3dc8fa8c7f93",
   "metadata": {},
   "outputs": [],
   "source": [
    "prompt_template1 = prompt_template1.invoke(input={\"msgs\":prompt.to_messages()})"
   ]
  },
  {
   "cell_type": "code",
   "execution_count": 44,
   "id": "94193d0d-536a-45ad-9dde-25e6f8774c12",
   "metadata": {},
   "outputs": [],
   "source": [
    "response = openai.invoke(prompt_template1.to_messages())"
   ]
  },
  {
   "cell_type": "code",
   "execution_count": 45,
   "id": "e3758737-65e6-41d7-b5d1-99b15ed46454",
   "metadata": {},
   "outputs": [
    {
     "name": "stdout",
     "output_type": "stream",
     "text": [
      "🎉 GIVEAWAY ALERT! 🚀 To celebrate the launch of OpenAI's o3 model, I'm giving away an exclusive tech bundle! 🎁✨ \n",
      "\n",
      "To enter:\n",
      "1️⃣ Follow me\n",
      "2️⃣ Retweet this tweet\n",
      "3️⃣ Reply with your thoughts on the future of AGI and how o3 could shape it!\n",
      "\n",
      "The winner will be announced next Friday! Let’s dive into the future together! 🌟 #OpenAI #o3 #AGI #Giveaway\n"
     ]
    }
   ],
   "source": [
    "print(response.content)"
   ]
  },
  {
   "cell_type": "code",
   "execution_count": 48,
   "id": "00bd8384-9ec1-4ac4-9c00-a616b67408fd",
   "metadata": {},
   "outputs": [
    {
     "data": {
      "text/plain": [
       "[SystemMessage(content='You are a social media influencer.', additional_kwargs={}, response_metadata={}),\n",
       " HumanMessage(content='I want to create a tweet that will increase my Twitter followers. Can you help me write a tweet that includes a giveaway or a contest related to \\nOn Friday, the company unveiled o3, the successor to the o1 “reasoning” model it released earlier in the year. o3 is a model family, to be more precise — as was the case with o1. There’s o3 and o3-mini, a smaller, distilled model fine-tuned for particular tasks.\\nOpenAI makes the remarkable claim that o3, at least in certain conditions, approaches AGI — with significant caveats.\\n?', additional_kwargs={}, response_metadata={})]"
      ]
     },
     "execution_count": 48,
     "metadata": {},
     "output_type": "execute_result"
    }
   ],
   "source": [
    "prompt_template1.to_messages()"
   ]
  },
  {
   "cell_type": "code",
   "execution_count": 50,
   "id": "ae2e2f83-fda7-4a90-9b22-33d424c390d0",
   "metadata": {},
   "outputs": [
    {
     "data": {
      "text/markdown": [
       "## Using `ChatPromptTemplate`\n"
      ],
      "text/plain": [
       "<IPython.core.display.Markdown object>"
      ]
     },
     "metadata": {},
     "output_type": "display_data"
    }
   ],
   "source": [
    "%%markdown\n",
    "## Using `ChatPromptTemplate`"
   ]
  },
  {
   "cell_type": "code",
   "execution_count": 51,
   "id": "37cb47a1-403b-47eb-bb87-61392be56fe6",
   "metadata": {},
   "outputs": [],
   "source": [
    "prompt_template2 = ChatPromptTemplate([\n",
    "    (\"system\", \"You are a social media marketing expert.\"),\n",
    "    (\"user\", \"Give me 3 topics to write content based on the following:\\n{topic}\")\n",
    "])"
   ]
  },
  {
   "cell_type": "code",
   "execution_count": 54,
   "id": "86100b01-a6e9-46b5-99a0-d00d4d52af5d",
   "metadata": {},
   "outputs": [],
   "source": [
    "response = openai.invoke(prompt_template2.invoke({\"topic\": \"german shephard dog breed\"}).to_messages())"
   ]
  },
  {
   "cell_type": "code",
   "execution_count": 56,
   "id": "137cace1-81b9-4d8b-9872-f4abd7db7730",
   "metadata": {},
   "outputs": [
    {
     "name": "stdout",
     "output_type": "stream",
     "text": [
      "Sure! Here are three engaging topics to write content about the German Shepherd dog breed:\n",
      "\n",
      "1. **\"The Versatility of German Shepherds: From Family Pets to Working Dogs\"**  \n",
      "   Explore the different roles that German Shepherds can fulfill, including their contributions as service dogs, police and military dogs, search and rescue partners, and loyal family companions. Discuss their intelligence, trainability, and the qualities that make them suitable for these diverse roles.\n",
      "\n",
      "2. **\"Training Tips for German Shepherd Owners: Building a Strong Bond\"**  \n",
      "   Provide a comprehensive guide on effective training techniques specifically tailored for German Shepherds. Cover topics such as obedience training, socialization strategies, mental stimulation activities, and addressing common behavioral issues. Emphasize the importance of positive reinforcement and establishing a strong bond with this intelligent breed.\n",
      "\n",
      "3. **\"Health and Wellness for German Shepherds: Keeping Your Companion Happy and Healthy\"**  \n",
      "   Discuss common health issues that affect German Shepherds, including hip dysplasia, degenerative myelopathy, and allergies. Offer tips on nutrition, exercise, regular veterinary check-ups, and grooming to ensure their overall well-being. Include insights on how to spot early signs of health concerns and the importance of preventive care.\n"
     ]
    }
   ],
   "source": [
    "print(response.content)"
   ]
  },
  {
   "cell_type": "code",
   "execution_count": 57,
   "id": "585b0ced-b538-473c-bc7d-910a5d34dd8e",
   "metadata": {},
   "outputs": [
    {
     "name": "stdout",
     "output_type": "stream",
     "text": [
      "content='Sure! Here are three engaging topics to write content about the German Shepherd dog breed:\\n\\n1. **\"The Versatility of German Shepherds: From Family Pets to Working Dogs\"**  \\n   Explore the different roles that German Shepherds can fulfill, including their contributions as service dogs, police and military dogs, search and rescue partners, and loyal family companions. Discuss their intelligence, trainability, and the qualities that make them suitable for these diverse roles.\\n\\n2. **\"Training Tips for German Shepherd Owners: Building a Strong Bond\"**  \\n   Provide a comprehensive guide on effective training techniques specifically tailored for German Shepherds. Cover topics such as obedience training, socialization strategies, mental stimulation activities, and addressing common behavioral issues. Emphasize the importance of positive reinforcement and establishing a strong bond with this intelligent breed.\\n\\n3. **\"Health and Wellness for German Shepherds: Keeping Your Companion Happy and Healthy\"**  \\n   Discuss common health issues that affect German Shepherds, including hip dysplasia, degenerative myelopathy, and allergies. Offer tips on nutrition, exercise, regular veterinary check-ups, and grooming to ensure their overall well-being. Include insights on how to spot early signs of health concerns and the importance of preventive care.' additional_kwargs={'refusal': None} response_metadata={'token_usage': {'completion_tokens': 250, 'prompt_tokens': 39, 'total_tokens': 289, 'completion_tokens_details': {'accepted_prediction_tokens': 0, 'audio_tokens': 0, 'reasoning_tokens': 0, 'rejected_prediction_tokens': 0}, 'prompt_tokens_details': {'audio_tokens': 0, 'cached_tokens': 0}}, 'model_name': 'gpt-4o-mini-2024-07-18', 'system_fingerprint': 'fp_0aa8d3e20b', 'finish_reason': 'stop', 'logprobs': None} id='run-bba86c56-bf1e-41e1-bc29-a9bbfce781d2-0' usage_metadata={'input_tokens': 39, 'output_tokens': 250, 'total_tokens': 289, 'input_token_details': {'audio': 0, 'cache_read': 0}, 'output_token_details': {'audio': 0, 'reasoning': 0}}\n"
     ]
    }
   ],
   "source": [
    "print(response)"
   ]
  },
  {
   "cell_type": "code",
   "execution_count": 66,
   "id": "b7a9d70e-9b1f-4ed4-b1ec-79cab27e40a8",
   "metadata": {},
   "outputs": [
    {
     "data": {
      "text/markdown": [
       "## Template with one-shot prompting\n"
      ],
      "text/plain": [
       "<IPython.core.display.Markdown object>"
      ]
     },
     "metadata": {},
     "output_type": "display_data"
    }
   ],
   "source": [
    "%%markdown\n",
    "## Template with one-shot prompting"
   ]
  },
  {
   "cell_type": "code",
   "execution_count": 62,
   "id": "b7341c87-d2bb-4772-9081-ab60bdd264a6",
   "metadata": {},
   "outputs": [],
   "source": [
    "prompt_template2 = ChatPromptTemplate([\n",
    "    (\"system\", \"You are a social media marketing expert.\"),\n",
    "    (\"user\", \"Give me 3 topics to write content based on the following:\\ngerman shephard dog breed\"),\n",
    "    (\"ai\", \"1.The Versatility of German Shepherds: From Family Pets to Working Dogs\\n 2.Training Tips for German Shepherd Owners: Building a Strong Bond \\n 3.Health and Wellness for German Shepherds: Keeping Your Companion Happy and Healthy\"),\n",
    "    (\"user\", \"Give me 3 topics to write content based on the following:\\n{topic}\")\n",
    "])"
   ]
  },
  {
   "cell_type": "code",
   "execution_count": 63,
   "id": "aeb412c5-ef65-4870-953f-e5a24f052ca6",
   "metadata": {},
   "outputs": [],
   "source": [
    "response = openai.invoke(prompt_template2.invoke({\"topic\": \"great indian bustard bird\"}).to_messages())"
   ]
  },
  {
   "cell_type": "code",
   "execution_count": 65,
   "id": "6a0ff1f5-9b7a-45f6-911a-6be2ae63dc79",
   "metadata": {},
   "outputs": [
    {
     "name": "stdout",
     "output_type": "stream",
     "text": [
      "1. **Conservation Efforts for the Great Indian Bustard: Challenges and Success Stories** - Explore the current status of the species, the threats it faces, and the initiatives being taken to protect its habitat and ensure its survival.\n",
      "\n",
      "2. **The Habitat and Behavior of the Great Indian Bustard: Understanding Their Unique Ecology** - Discuss the natural habitats of the Great Indian Bustard, their mating rituals, feeding habits, and the ecological role they play in their environment.\n",
      "\n",
      "3. **Cultural Significance of the Great Indian Bustard in Indian Folklore and Conservation** - Delve into how this majestic bird is represented in Indian culture, its importance in local traditions, and the role of communities in its conservation efforts.\n"
     ]
    }
   ],
   "source": [
    "print(response.content)"
   ]
  },
  {
   "cell_type": "code",
   "execution_count": 67,
   "id": "303984a3-4d9a-4753-a4f5-5c7deb487b56",
   "metadata": {},
   "outputs": [
    {
     "data": {
      "text/markdown": [
       "## Few Shot Prompting\n"
      ],
      "text/plain": [
       "<IPython.core.display.Markdown object>"
      ]
     },
     "metadata": {},
     "output_type": "display_data"
    }
   ],
   "source": [
    "%%markdown\n",
    "## Few Shot Prompting"
   ]
  },
  {
   "cell_type": "code",
   "execution_count": 68,
   "id": "e076ac50-e9c0-476d-9912-c638c495f5ef",
   "metadata": {},
   "outputs": [],
   "source": [
    "example_comments = [\n",
    "  {\n",
    "    \"comment\": \"Great ambiance and delicious food, will definitely come back!\",\n",
    "    \"sentiment\": \"Positive\"\n",
    "  },\n",
    "  {\n",
    "    \"comment\": \"The service was quick and friendly, but the food was a bit too salty.\",\n",
    "    \"sentiment\": \"Neutral\"\n",
    "  },\n",
    "  {\n",
    "    \"comment\": \"Cozy spot with amazing desserts, highly recommend the chocolate cake!\",\n",
    "    \"sentiment\": \"Positive\"\n",
    "  },\n",
    "  {\n",
    "    \"comment\": \"Food was bland and overpriced, not coming back.\",\n",
    "    \"sentiment\": \"Negative\"\n",
    "  },\n",
    "  {\n",
    "    \"comment\": \"The meal was fine, but nothing special—just average.\",\n",
    "    \"sentiment\": \"Neutral\"\n",
    "  }\n",
    "]"
   ]
  },
  {
   "cell_type": "code",
   "execution_count": 69,
   "id": "2ab05eec-da39-4725-af0f-47104e47365f",
   "metadata": {},
   "outputs": [],
   "source": [
    "example_prompt = PromptTemplate(input_variables=[\"comment\", \"sentiment\"], \n",
    "                                template=\"\"\"comment: {comment},sentiment: {sentiment}\"\"\")"
   ]
  },
  {
   "cell_type": "code",
   "execution_count": 72,
   "id": "d9bc9874-1a1e-4016-8f57-48a735c256ab",
   "metadata": {},
   "outputs": [],
   "source": [
    "prompt = FewShotPromptTemplate(\n",
    "    examples=example_comments,\n",
    "    example_prompt=example_prompt,\n",
    "    prefix=\"Comments and their associated sentiments\",\n",
    "    suffix=\"Comment: {comment}\",\n",
    "    input_variables=[\"comment\"],\n",
    "    example_separator=\"\\n\"\n",
    ").invoke({\"comment\": f\"Waited too long for a table, but the food was okay.\"})"
   ]
  },
  {
   "cell_type": "code",
   "execution_count": 73,
   "id": "600ea88b-fcfc-4efc-92ec-0c96a2042931",
   "metadata": {},
   "outputs": [],
   "source": [
    "response = openai.invoke(prompt.to_messages())"
   ]
  },
  {
   "cell_type": "code",
   "execution_count": 74,
   "id": "54304f13-04f6-4077-9e5d-b3a16505d5d2",
   "metadata": {},
   "outputs": [
    {
     "name": "stdout",
     "output_type": "stream",
     "text": [
      "sentiment: Neutral\n"
     ]
    }
   ],
   "source": [
    "print(response.content)"
   ]
  },
  {
   "cell_type": "code",
   "execution_count": null,
   "id": "efb47f53-6fda-484b-b6ee-0529db95dfaf",
   "metadata": {},
   "outputs": [],
   "source": []
  }
 ],
 "metadata": {
  "kernelspec": {
   "display_name": "Python 3 (ipykernel)",
   "language": "python",
   "name": "python3"
  },
  "language_info": {
   "codemirror_mode": {
    "name": "ipython",
    "version": 3
   },
   "file_extension": ".py",
   "mimetype": "text/x-python",
   "name": "python",
   "nbconvert_exporter": "python",
   "pygments_lexer": "ipython3",
   "version": "3.11.3"
  }
 },
 "nbformat": 4,
 "nbformat_minor": 5
}
