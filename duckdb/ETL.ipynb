{
 "cells": [
  {
   "cell_type": "code",
   "execution_count": 1,
   "id": "2f45e5c8-f964-4cc3-b860-87f2754c99b8",
   "metadata": {},
   "outputs": [],
   "source": [
    "import pandas as pd\n",
    "import numpy as np\n",
    "import os\n",
    "import glob\n",
    "import json\n",
    "import duckdb"
   ]
  },
  {
   "cell_type": "code",
   "execution_count": null,
   "id": "cb776ff0-bcc7-47cd-89ed-13a28e67b67d",
   "metadata": {},
   "outputs": [],
   "source": [
    "pd.set_option('display.max_columns', None)"
   ]
  },
  {
   "cell_type": "code",
   "execution_count": null,
   "id": "4c20144c-5422-4c7d-814a-0841fd60af8d",
   "metadata": {},
   "outputs": [],
   "source": [
    "def transform_match_details(df_combined: pd.DataFrame) -> pd.DataFrame:\n",
    "    cols_to_drop = []\n",
    "    for col in df_combined.columns:\n",
    "        if 'info.registry.' in col or 'info.players.' in col:\n",
    "            cols_to_drop.append(col)\n",
    "    df_combined.drop(cols_to_drop, axis=1, inplace=True)\n",
    "    df_combined.columns = [col[5:] if \"info.\" in col else col for col in df_combined.columns]\n",
    "    df_combined['date'] = df_combined['dates'].apply(lambda x: (x[0]))\n",
    "    df_match_level_info = df_combined.copy()\n",
    "    df_match_level_info.drop('innings', axis=1, inplace=True)\n",
    "    df_match_level_info['officials.umpires'] = df_match_level_info['officials.umpires'].apply(lambda x: ','.join(map(str, x)))\n",
    "    df_match_level_info[['Umpire1', 'Umpire2']] = df_match_level_info['officials.umpires'].str.split(',', expand=True)\n",
    "    try:\n",
    "        df_match_level_info['officials.tv_umpires'] = df_match_level_info['officials.tv_umpires'].apply(lambda x: ','.join(map(str, x)))\n",
    "        df_match_level_info['officials.reserve_umpires'] = df_match_level_info['officials.reserve_umpires'].apply(lambda x: ','.join(map(str, x)))\n",
    "    except Exception as e:\n",
    "        print(e)\n",
    "        print(df_match_level_info['officials.reserve_umpires'])\n",
    "    df_match_level_info['officials.match_referees'] = df_match_level_info['officials.match_referees'].apply(lambda x: ','.join(map(str, x)))\n",
    "    df_match_level_info['teams'] = df_match_level_info['teams'].apply(lambda x: ','.join(map(str, x)))\n",
    "    df_match_level_info[['Team1', 'Team2']] = df_match_level_info['teams'].str.split(',', expand=True)\n",
    "    df_match_level_info['event.match_number'].fillna(df_match_level_info['event.stage'], inplace=True)\n",
    "    df_match_level_info['event.match_number'] = df_match_level_info['event.match_number'].astype(str).str.rstrip('.0')\n",
    "    df_match_level_info['player_of_match'] = df_match_level_info['player_of_match'].fillna(\"NA\").apply(lambda x: (x[0]))\n",
    "    df_match_level_info.drop(['meta.data_version', 'meta.created', 'meta.revision', 'dates', 'event.stage'], axis=1, inplace=True)\n",
    "    df_match_level_info['outcome_type_1'] = df_match_level_info[\"outcome.by.runs\"].apply(lambda x: x if pd.isna(x) else \"Runs\")\n",
    "    df_match_level_info['outcome_type_2'] = df_match_level_info[\"outcome.by.wickets\"].apply(lambda x: x if pd.isna(x) else \"Wickets\")\n",
    "    df_match_level_info['outcome_type'] = df_match_level_info['outcome_type_1'].fillna(df_match_level_info['outcome_type_2'])\n",
    "    df_match_level_info.drop(['officials.umpires', 'outcome_type_1', 'outcome_type_2', 'teams'], axis=1, inplace=True)\n",
    "    df_match_level_info.columns = [col.replace(\".\", \"_\") for col in df_match_level_info.columns]\n",
    "    df_match_level_info = df_match_level_info[[ 'event_match_number', 'date', 'event_name', 'season', 'team_type', 'gender', 'match_type', 'overs', 'balls_per_over', 'Team1', 'Team2',\n",
    "    'toss_decision', 'toss_winner', 'venue','city','outcome_type','outcome_by_wickets', 'outcome_by_runs','outcome_winner','outcome_method', 'outcome_result', 'player_of_match', 'Umpire1', 'Umpire2',\n",
    "    'officials_match_referees', 'officials_reserve_umpires',\n",
    "    'officials_tv_umpires']]\n",
    "    return df_match_level_info"
   ]
  },
  {
   "cell_type": "code",
   "execution_count": null,
   "id": "dfb91ca2-7697-4880-ab9e-3c2f7e70f248",
   "metadata": {},
   "outputs": [],
   "source": [
    "json_files = glob.glob(\"./ipl_male_json/\" + \"*.json\")"
   ]
  },
  {
   "cell_type": "code",
   "execution_count": null,
   "id": "1b142ed1-e34e-46b6-b1f5-7655984347d8",
   "metadata": {},
   "outputs": [],
   "source": [
    "%%markdown\n",
    "## Desired Files"
   ]
  },
  {
   "cell_type": "code",
   "execution_count": null,
   "id": "7f2679f8-c677-4996-8ae6-f7f6722c3c13",
   "metadata": {},
   "outputs": [],
   "source": [
    "dataset_list = []\n",
    "for json_file in json_files:\n",
    "    json_file_name = os.path.basename(json_file) #1359475\n",
    "    file_name, file_extension = os.path.splitext(json_file_name)\n",
    "    if int(file_name) >= 0: #1359475\n",
    "        try:\n",
    "            with open(json_file, 'r') as json_file:\n",
    "                data = json.load(json_file)\n",
    "                df = pd.json_normalize(data)\n",
    "                dataset_list.append(df)\n",
    "        except Exception as e:\n",
    "            print(f\"Error reading {json_file}: {e}\")"
   ]
  },
  {
   "cell_type": "code",
   "execution_count": null,
   "id": "e2412f27-f7d3-43a3-b030-79d2d3f60ac3",
   "metadata": {},
   "outputs": [],
   "source": [
    "df_combined = pd.concat(dataset_list)"
   ]
  },
  {
   "cell_type": "code",
   "execution_count": null,
   "id": "b9def715-172f-4704-9e4c-b6919fefc9d6",
   "metadata": {},
   "outputs": [],
   "source": [
    "match_fact_table = transform_match_details(df_combined)"
   ]
  },
  {
   "cell_type": "code",
   "execution_count": null,
   "id": "c9e7a098-dfc2-4ed7-abe1-954fa027fd74",
   "metadata": {},
   "outputs": [],
   "source": [
    "match_fact_table"
   ]
  },
  {
   "cell_type": "code",
   "execution_count": null,
   "id": "a98880e0-d33d-41f9-a032-44802ba96549",
   "metadata": {},
   "outputs": [],
   "source": [
    "match_fact_table.to_csv(\"ipl_match_data.csv\", index=False)"
   ]
  },
  {
   "cell_type": "code",
   "execution_count": null,
   "id": "1b55de97-f0b8-48c1-a45d-bd820e0fdfdd",
   "metadata": {},
   "outputs": [],
   "source": [
    "duckdb.query(\"\"\"\n",
    "SELECT venue, CASE WHEN toss_winner == outcome_winner THEN 'TOSS WINNER WINS' ELSE 'TOSS WINNER LOST' END AS drv_winner_details, COUNT(*) as occurances FROM match_fact_table GROUP BY 1,2 ORDER BY 1\n",
    "\"\"\").to_df()"
   ]
  },
  {
   "cell_type": "code",
   "execution_count": null,
   "id": "16bb5828-5091-4289-b096-6a728b70cad8",
   "metadata": {},
   "outputs": [],
   "source": [
    "duckdb.query(\"\"\"\n",
    "SELECT outcome_winner, MAX(outcome_by_runs) as result FROM match_fact_table \n",
    "WHERE outcome_winner != 'None'\n",
    "GROUP BY 1 ORDER BY 2 DESC\n",
    "\"\"\").to_df()"
   ]
  },
  {
   "cell_type": "code",
   "execution_count": null,
   "id": "a604c36a-acd2-4147-b9e1-a7ec42ad373a",
   "metadata": {},
   "outputs": [],
   "source": [
    "duckdb.query(\"\"\"\n",
    "SELECT season, player_of_match, COUNT(*) FROM match_fact_table \n",
    "GROUP BY 1,2 \n",
    "HAVING COUNT(*) >= 2\n",
    "ORDER BY 3 DESC\n",
    "\"\"\").to_df()"
   ]
  },
  {
   "cell_type": "code",
   "execution_count": null,
   "id": "e5deb569-2bac-4470-8d8e-2ace246a3a6e",
   "metadata": {},
   "outputs": [],
   "source": [
    "match_fact_table.columns"
   ]
  },
  {
   "cell_type": "code",
   "execution_count": 2,
   "id": "d8c6af5d-2e37-42db-8827-baaf3861cb9e",
   "metadata": {},
   "outputs": [],
   "source": [
    "df1 = pd.read_csv(\"ipl_match_data.csv\")"
   ]
  },
  {
   "cell_type": "code",
   "execution_count": 3,
   "id": "0f412f46-11c5-4986-831f-7112541d9546",
   "metadata": {},
   "outputs": [
    {
     "name": "stdout",
     "output_type": "stream",
     "text": [
      "<class 'pandas.core.frame.DataFrame'>\n",
      "RangeIndex: 1030 entries, 0 to 1029\n",
      "Data columns (total 27 columns):\n",
      " #   Column                     Non-Null Count  Dtype  \n",
      "---  ------                     --------------  -----  \n",
      " 0   event_match_number         1030 non-null   object \n",
      " 1   date                       1030 non-null   object \n",
      " 2   event_name                 1030 non-null   object \n",
      " 3   season                     1030 non-null   object \n",
      " 4   team_type                  1030 non-null   object \n",
      " 5   gender                     1030 non-null   object \n",
      " 6   match_type                 1030 non-null   object \n",
      " 7   overs                      1030 non-null   int64  \n",
      " 8   balls_per_over             1030 non-null   int64  \n",
      " 9   Team1                      1030 non-null   object \n",
      " 10  Team2                      1030 non-null   object \n",
      " 11  toss_decision              1030 non-null   object \n",
      " 12  toss_winner                1030 non-null   object \n",
      " 13  venue                      1030 non-null   object \n",
      " 14  city                       979 non-null    object \n",
      " 15  outcome_type               1011 non-null   object \n",
      " 16  outcome_by_wickets         545 non-null    float64\n",
      " 17  outcome_by_runs            466 non-null    float64\n",
      " 18  outcome_winner             1011 non-null   object \n",
      " 19  outcome_method             21 non-null     object \n",
      " 20  outcome_result             19 non-null     object \n",
      " 21  player_of_match            1030 non-null   object \n",
      " 22  Umpire1                    1030 non-null   object \n",
      " 23  Umpire2                    1030 non-null   object \n",
      " 24  officials_match_referees   1030 non-null   object \n",
      " 25  officials_reserve_umpires  1006 non-null   object \n",
      " 26  officials_tv_umpires       1027 non-null   object \n",
      "dtypes: float64(2), int64(2), object(23)\n",
      "memory usage: 217.4+ KB\n"
     ]
    }
   ],
   "source": [
    "df1.info()"
   ]
  },
  {
   "cell_type": "code",
   "execution_count": null,
   "id": "7f85b0cf-9f76-4dd1-ab99-a5935ff28295",
   "metadata": {},
   "outputs": [],
   "source": []
  }
 ],
 "metadata": {
  "kernelspec": {
   "display_name": "Python 3 (ipykernel)",
   "language": "python",
   "name": "python3"
  },
  "language_info": {
   "codemirror_mode": {
    "name": "ipython",
    "version": 3
   },
   "file_extension": ".py",
   "mimetype": "text/x-python",
   "name": "python",
   "nbconvert_exporter": "python",
   "pygments_lexer": "ipython3",
   "version": "3.11.3"
  }
 },
 "nbformat": 4,
 "nbformat_minor": 5
}
