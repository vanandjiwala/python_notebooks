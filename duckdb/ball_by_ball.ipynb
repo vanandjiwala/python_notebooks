{
 "cells": [
  {
   "cell_type": "code",
   "execution_count": 1,
   "id": "846bfd06-702e-4606-8d58-f5827a8efe5a",
   "metadata": {},
   "outputs": [],
   "source": [
    "import pandas as pd\n",
    "import numpy as np\n",
    "import os\n",
    "import glob\n",
    "import json\n",
    "import duckdb"
   ]
  },
  {
   "cell_type": "code",
   "execution_count": 2,
   "id": "1f3262d3-ffdd-4607-81de-a51c20cc64d0",
   "metadata": {},
   "outputs": [],
   "source": [
    "pd.set_option('display.max_columns', None)\n",
    "pd.options.mode.chained_assignment = None"
   ]
  },
  {
   "cell_type": "code",
   "execution_count": 27,
   "id": "164281eb-4a4e-40e2-ae98-181ea7b934be",
   "metadata": {},
   "outputs": [],
   "source": [
    "def get_players(wickets_dict):\n",
    "    fielders = wickets_dict.get(\"fielders\")\n",
    "    if fielders:\n",
    "        players_list = []\n",
    "        for item in fielders:\n",
    "            players_list.append(item.get('name'))\n",
    "        return \",\".join(players_list)\n",
    "    else:\n",
    "        return None"
   ]
  },
  {
   "cell_type": "code",
   "execution_count": 44,
   "id": "e615a8c4-3cfe-4c38-a46b-57ee74029e5b",
   "metadata": {},
   "outputs": [],
   "source": [
    "def transform_ball_by_ball_details(df_combined: pd.DataFrame) -> pd.DataFrame:\n",
    "    cols_to_drop = []\n",
    "    for col in df_combined.columns:\n",
    "        if 'info.registry.' in col or 'info.players.' in col:\n",
    "            cols_to_drop.append(col)\n",
    "    df_combined.drop(cols_to_drop, axis=1, inplace=True)\n",
    "    df_combined.columns = [col[5:] if \"info.\" in col else col for col in df_combined.columns]\n",
    "    df_combined['date'] = df_combined['dates'].apply(lambda x: (x[0]))\n",
    "    df_combined['event.match_number'].fillna(df_combined['event.stage'], inplace=True)\n",
    "    df_combined['event.match_number'] = df_combined['event.match_number'].astype(str).str.rstrip('.0')\n",
    "    df_combined = df_combined.explode('innings', ignore_index=True)\n",
    "    df_combined[\"team\"] = df_combined[\"innings\"].apply(lambda x: x.get(\"team\"))\n",
    "    df_combined[\"overs_list\"] = df_combined[\"innings\"].apply(lambda x: x.get(\"overs\"))\n",
    "    df_combined[\"power_play\"] = df_combined[\"innings\"].apply(lambda x: x.get(\"powerplays\"))\n",
    "    df_combined = df_combined.explode('overs_list', ignore_index=True)\n",
    "    df_combined[\"over\"] = df_combined[\"overs_list\"].apply(lambda x: x.get(\"over\"))\n",
    "    df_combined[\"over\"] = df_combined[\"over\"].apply(lambda x: x + 1)\n",
    "    df_combined[\"deliveries_list\"] = df_combined[\"overs_list\"].apply(lambda x: x.get(\"deliveries\"))\n",
    "    df_combined = df_combined.explode('deliveries_list', ignore_index=True)\n",
    "    df_combined[\"batter\"] = df_combined[\"deliveries_list\"].apply(lambda x: x.get(\"batter\"))\n",
    "    df_combined[\"bowler\"] =df_combined[\"deliveries_list\"].apply(lambda x: x.get(\"bowler\"))\n",
    "    df_combined[\"non_striker\"] =df_combined[\"deliveries_list\"].apply(lambda x: x.get(\"non_striker\"))\n",
    "    df_combined[\"runs\"] =df_combined[\"deliveries_list\"].apply(lambda x: x.get(\"runs\"))\n",
    "    df_combined[\"wickets\"] =df_combined[\"deliveries_list\"].apply(lambda x: x.get(\"wickets\"))\n",
    "    df_combined[\"extra_desc\"] = df_combined[\"deliveries_list\"].apply(lambda x: \",\".join(x.get(\"extras\").keys()) if x.get(\"extras\") else None)\n",
    "    df_combined[\"wicket_kind\"] = df_combined[\"deliveries_list\"].apply(lambda x: x.get(\"wickets\")[0].get(\"kind\") if x.get(\"wickets\") else None)\n",
    "    df_combined[\"player_out\"] = df_combined[\"deliveries_list\"].apply(lambda x: x.get(\"wickets\")[0].get(\"player_out\") if x.get(\"wickets\") else None)\n",
    "    df_combined[\"wicket_fielders\"] = df_combined[\"deliveries_list\"].apply(lambda x: get_players(x.get(\"wickets\")[0]) if x.get(\"wickets\") else None)\n",
    "    df_combined[\"batter_runs\"] =df_combined[\"runs\"].apply(lambda x: x.get(\"batter\"))\n",
    "    df_combined[\"extra_runs\"] =df_combined[\"runs\"].apply(lambda x: x.get(\"extras\"))\n",
    "    df_combined[\"total_runs\"] =df_combined[\"runs\"].apply(lambda x: x.get(\"total\"))\n",
    "    df_combined.drop(\"runs\", axis=1, inplace=True)\n",
    "    df_combined.drop(\"deliveries_list\", axis=1, inplace=True)\n",
    "    df_combined = df_combined.explode('wickets', ignore_index=True)\n",
    "    df_combined.drop(\"wickets\", axis=1, inplace=True)\n",
    "    df_combined.drop(\"innings\", axis=1, inplace=True)\n",
    "    df_combined.drop(\"overs_list\", axis=1, inplace=True)\n",
    "    df_combined[\"over_ball_no\"] = df_combined.groupby([\"season\",\"event.match_number\",\"team\",\"over\"]).cumcount() + 1\n",
    "    df_combined['over_ball_no_str'] = df_combined['over'].astype(str) + '.' + df_combined['over_ball_no'].astype(str)\n",
    "    df_combined = df_combined[['season','event.match_number', 'date', 'team', 'power_play', 'over', 'batter', 'bowler', 'non_striker',\n",
    "       'batter_runs', 'extra_runs', 'total_runs', 'over_ball_no','over_ball_no_str','extra_desc', 'wicket_kind', 'player_out',\n",
    "       'wicket_fielders']]\n",
    "    df_combined.rename({'event.match_number': 'event_match_number'}, axis=1, inplace=True)\n",
    "    return df_combined"
   ]
  },
  {
   "cell_type": "code",
   "execution_count": 45,
   "id": "5a636692-3e58-4526-8f0b-5d4d1d088b64",
   "metadata": {},
   "outputs": [],
   "source": [
    "json_files = glob.glob(\"./ipl_male_json/\" + \"*.json\")"
   ]
  },
  {
   "cell_type": "code",
   "execution_count": 46,
   "id": "4c8281ee-958f-4185-a68b-5404a8b14062",
   "metadata": {},
   "outputs": [],
   "source": [
    "dataset_list = []\n",
    "for json_file in json_files:\n",
    "    json_file_name = os.path.basename(json_file) #1359475\n",
    "    file_name, file_extension = os.path.splitext(json_file_name)\n",
    "    if int(file_name) >= 0: #1359475\n",
    "        try:\n",
    "            with open(json_file, 'r') as json_file:\n",
    "                data = json.load(json_file)\n",
    "                df = pd.json_normalize(data)\n",
    "                dataset_list.append(df)\n",
    "        except Exception as e:\n",
    "            print(f\"Error reading {json_file}: {e}\")"
   ]
  },
  {
   "cell_type": "code",
   "execution_count": 47,
   "id": "7ffcdaaf-aeda-4a24-9ad6-22769cd07340",
   "metadata": {},
   "outputs": [],
   "source": [
    "df_combined = pd.concat(dataset_list)"
   ]
  },
  {
   "cell_type": "code",
   "execution_count": 51,
   "id": "0b0b4038-a70c-40c7-b8ee-f02b93dfbda4",
   "metadata": {},
   "outputs": [
    {
     "name": "stderr",
     "output_type": "stream",
     "text": [
      "/var/folders/z4/sgmfmt297zn0mp0k4hrdsk3h0000gn/T/ipykernel_66546/628129957.py:9: FutureWarning: A value is trying to be set on a copy of a DataFrame or Series through chained assignment using an inplace method.\n",
      "The behavior will change in pandas 3.0. This inplace method will never work because the intermediate object on which we are setting values always behaves as a copy.\n",
      "\n",
      "For example, when doing 'df[col].method(value, inplace=True)', try using 'df.method({col: value}, inplace=True)' or df[col] = df[col].method(value) instead, to perform the operation inplace on the original object.\n",
      "\n",
      "\n",
      "  df_combined['event.match_number'].fillna(df_combined['event.stage'], inplace=True)\n"
     ]
    }
   ],
   "source": [
    "df_ball_by_ball = transform_ball_by_ball_details(df_combined)"
   ]
  },
  {
   "cell_type": "code",
   "execution_count": 52,
   "id": "3df1da34-e44a-4924-89bf-1052496cd1f8",
   "metadata": {},
   "outputs": [],
   "source": [
    "df_ball_by_ball.to_csv(\"ball_by_ball_ipl.csv\", index=False)"
   ]
  },
  {
   "cell_type": "code",
   "execution_count": 53,
   "id": "f14796e6-ab93-44d0-8d36-b1e8d6c4f529",
   "metadata": {},
   "outputs": [
    {
     "name": "stdout",
     "output_type": "stream",
     "text": [
      "<class 'pandas.core.frame.DataFrame'>\n",
      "RangeIndex: 245308 entries, 0 to 245307\n",
      "Data columns (total 18 columns):\n",
      " #   Column              Non-Null Count   Dtype \n",
      "---  ------              --------------   ----- \n",
      " 0   season              245308 non-null  object\n",
      " 1   event_match_number  245308 non-null  object\n",
      " 2   date                245308 non-null  object\n",
      " 3   team                245308 non-null  object\n",
      " 4   power_play          245147 non-null  object\n",
      " 5   over                245308 non-null  int64 \n",
      " 6   batter              245308 non-null  object\n",
      " 7   bowler              245308 non-null  object\n",
      " 8   non_striker         245308 non-null  object\n",
      " 9   batter_runs         245308 non-null  int64 \n",
      " 10  extra_runs          245308 non-null  int64 \n",
      " 11  total_runs          245308 non-null  int64 \n",
      " 12  over_ball_no        245308 non-null  int64 \n",
      " 13  over_ball_no_str    245308 non-null  object\n",
      " 14  extra_desc          13153 non-null   object\n",
      " 15  wicket_kind         12143 non-null   object\n",
      " 16  player_out          12143 non-null   object\n",
      " 17  wicket_fielders     8727 non-null    object\n",
      "dtypes: int64(5), object(13)\n",
      "memory usage: 33.7+ MB\n"
     ]
    }
   ],
   "source": [
    "df_ball_by_ball.info()"
   ]
  },
  {
   "cell_type": "code",
   "execution_count": null,
   "id": "ecd24be6-008e-4e58-9e0b-8cf86db5f2cf",
   "metadata": {},
   "outputs": [],
   "source": []
  }
 ],
 "metadata": {
  "kernelspec": {
   "display_name": "Python 3 (ipykernel)",
   "language": "python",
   "name": "python3"
  },
  "language_info": {
   "codemirror_mode": {
    "name": "ipython",
    "version": 3
   },
   "file_extension": ".py",
   "mimetype": "text/x-python",
   "name": "python",
   "nbconvert_exporter": "python",
   "pygments_lexer": "ipython3",
   "version": "3.11.3"
  }
 },
 "nbformat": 4,
 "nbformat_minor": 5
}
