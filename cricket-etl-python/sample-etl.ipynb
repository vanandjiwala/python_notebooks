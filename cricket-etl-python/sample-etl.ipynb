{
 "cells": [
  {
   "cell_type": "code",
   "execution_count": null,
   "id": "1c60776c-7b03-4cb7-ab80-e8c1befa06d6",
   "metadata": {},
   "outputs": [],
   "source": [
    "import pandas as pd\n",
    "import os\n",
    "import glob\n",
    "import json"
   ]
  },
  {
   "cell_type": "code",
   "execution_count": null,
   "id": "04f1e87f-3e81-4792-81a9-4bc15c898b71",
   "metadata": {},
   "outputs": [],
   "source": [
    "data_dir_path = os.path.join(os.getcwd(), \"odis_json\")"
   ]
  },
  {
   "cell_type": "code",
   "execution_count": null,
   "id": "1ad922c9-1b85-4a92-ad43-e377f37997f9",
   "metadata": {},
   "outputs": [],
   "source": [
    "print(data_dir_path)"
   ]
  },
  {
   "cell_type": "code",
   "execution_count": null,
   "id": "14032b70-d134-488b-8de8-f774eb3937bc",
   "metadata": {},
   "outputs": [],
   "source": [
    "json_files = glob.glob(data_dir_path + \"/*.json\")"
   ]
  },
  {
   "cell_type": "code",
   "execution_count": null,
   "id": "dab14dd7-327e-4c76-a8c4-008d99b5e50b",
   "metadata": {},
   "outputs": [],
   "source": [
    "dataset_list = []\n",
    "for json_file in json_files[:3]:\n",
    "    try:\n",
    "        with open(json_file, 'r') as json_file:\n",
    "            data = json.load(json_file)\n",
    "            df = pd.json_normalize(data)\n",
    "            dataset_list.append(df)\n",
    "    except Exception as e:\n",
    "        print(f\"Error reading {json_file}: {e}\")"
   ]
  },
  {
   "cell_type": "code",
   "execution_count": null,
   "id": "3d658a9b-547b-4418-b5c4-a55c9f6cb7e7",
   "metadata": {},
   "outputs": [],
   "source": [
    "df_combined = pd.concat(dataset_list)"
   ]
  },
  {
   "cell_type": "code",
   "execution_count": null,
   "id": "aad9ea65-775c-4fa2-958a-5273218cb8bd",
   "metadata": {},
   "outputs": [],
   "source": [
    "df_combined"
   ]
  },
  {
   "cell_type": "code",
   "execution_count": null,
   "id": "4911b441-0ad9-4d95-8fa3-4ba7fe029729",
   "metadata": {},
   "outputs": [],
   "source": [
    "df_combined = df_combined.explode('innings', ignore_index=True)"
   ]
  },
  {
   "cell_type": "code",
   "execution_count": null,
   "id": "861d6a49-dd54-4c26-b194-661a7671cb0f",
   "metadata": {},
   "outputs": [],
   "source": [
    "df_combined"
   ]
  },
  {
   "cell_type": "code",
   "execution_count": null,
   "id": "7bf25fb7-4352-4659-b932-9a44805d8ca3",
   "metadata": {},
   "outputs": [],
   "source": [
    "df_combined[\"team\"] = df_combined[\"innings\"].apply(lambda x: x.get(\"team\"))"
   ]
  },
  {
   "cell_type": "code",
   "execution_count": null,
   "id": "7ae8d528-c87f-46a7-9624-c2f585811710",
   "metadata": {},
   "outputs": [],
   "source": [
    "df_combined[\"overs_list\"] = df_combined[\"innings\"].apply(lambda x: x.get(\"overs\"))"
   ]
  },
  {
   "cell_type": "code",
   "execution_count": null,
   "id": "aef5e238-cfd8-49aa-b9dd-313fbf713173",
   "metadata": {},
   "outputs": [],
   "source": [
    "df_combined = df_combined.explode('overs_list', ignore_index=True)"
   ]
  },
  {
   "cell_type": "code",
   "execution_count": null,
   "id": "17145cdb-c9fa-4516-94ff-15fee63dbda8",
   "metadata": {},
   "outputs": [],
   "source": [
    "df_combined[\"over\"] = df_combined[\"overs_list\"].apply(lambda x: x.get(\"over\"))"
   ]
  },
  {
   "cell_type": "code",
   "execution_count": null,
   "id": "2b19c6a0-8a68-4295-835e-41d0200a0d6a",
   "metadata": {},
   "outputs": [],
   "source": [
    "df_combined[\"deliveries_list\"] = df_combined[\"overs_list\"].apply(lambda x: x.get(\"deliveries\"))"
   ]
  },
  {
   "cell_type": "code",
   "execution_count": null,
   "id": "3da73198-8796-46d8-b54a-509dc01f8fd2",
   "metadata": {},
   "outputs": [],
   "source": [
    "df_combined = df_combined.explode('deliveries_list', ignore_index=True)"
   ]
  },
  {
   "cell_type": "code",
   "execution_count": null,
   "id": "9ae4d21e-9fa4-4792-aec2-39bad7f74fcc",
   "metadata": {},
   "outputs": [],
   "source": [
    "df_combined"
   ]
  }
 ],
 "metadata": {
  "kernelspec": {
   "display_name": "Python 3 (ipykernel)",
   "language": "python",
   "name": "python3"
  },
  "language_info": {
   "codemirror_mode": {
    "name": "ipython",
    "version": 3
   },
   "file_extension": ".py",
   "mimetype": "text/x-python",
   "name": "python",
   "nbconvert_exporter": "python",
   "pygments_lexer": "ipython3",
   "version": "3.10.11"
  }
 },
 "nbformat": 4,
 "nbformat_minor": 5
}
